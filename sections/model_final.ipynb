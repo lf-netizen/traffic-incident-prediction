{
 "cells": [
  {
   "cell_type": "code",
   "execution_count": 4,
   "metadata": {},
   "outputs": [],
   "source": [
    "import os\n",
    "import sys\n",
    "import pandas as pd\n",
    "from pathlib import Path\n",
    "\n",
    "# PROJECT_ROOT = Path(os.getenv(\"PROJECT_ROOT\"))\n",
    "PROJECT_ROOT = Path(\"/home/Data_Analytics/traffic-incident-prediction\")\n",
    "SCRIPTS_DIR = PROJECT_ROOT / \"scripts\"\n",
    "DATA_DIR = PROJECT_ROOT / \"data\"\n",
    "IMG_DIR = PROJECT_ROOT / \"img\"\n",
    "STAN_PATH = PROJECT_ROOT / \"scripts/stan\"\n",
    "DATA_PATH = f\"{PROJECT_ROOT}/data/analysis\"\n",
    "\n",
    "sys.path.append(str(PROJECT_ROOT))"
   ]
  },
  {
   "cell_type": "code",
   "execution_count": 5,
   "metadata": {},
   "outputs": [
    {
     "name": "stderr",
     "output_type": "stream",
     "text": [
      "/usr/local/lib/python3.12/site-packages/tqdm/auto.py:22: TqdmWarning: IProgress not found. Please update jupyter and ipywidgets. See https://ipywidgets.readthedocs.io/en/stable/user_install.html\n",
      "  from .autonotebook import tqdm as notebook_tqdm\n"
     ]
    }
   ],
   "source": [
    "from cmdstanpy import CmdStanModel\n",
    "\n",
    "import arviz as az\n",
    "import numpy as np\n",
    "import scipy.stats as stats\n",
    "\n",
    "import matplotlib.pyplot as plt\n",
    "import pandas as pd"
   ]
  },
  {
   "cell_type": "code",
   "execution_count": null,
   "metadata": {},
   "outputs": [],
   "source": []
  },
  {
   "cell_type": "code",
   "execution_count": 6,
   "metadata": {},
   "outputs": [],
   "source": [
    "# data import\n",
    "file_names = ['2021_mazowieckie.csv', \n",
    "              '2020_opolskie.csv',\n",
    "              '2022_mazowieckie.csv']\n",
    "\n",
    "data = []\n",
    "for file_name in file_names:\n",
    "    with open(f\"{DATA_PATH}/{file_name}\", 'r') as file:\n",
    "        data.append(pd.read_csv(file))"
   ]
  },
  {
   "cell_type": "markdown",
   "metadata": {},
   "source": [
    "## 3. Model"
   ]
  },
  {
   "cell_type": "markdown",
   "metadata": {},
   "source": [
    "### Description\n",
    "After thorough analization we decided to use a linear model and a Poisson model. \n",
    "Because of no previous knowlegde of this topic we had scarce understanding of what model we should choose. Based on the assumption that linear models are popular starting choice and they are effective when they works we set it as our first model. However first iterations were fairly different from this one.\n",
    "$$ y \\sim \\text{Normal}(\\mu, \\sigma)$$\n",
    "$$ \\mu = \\alpha + \\beta \\cdot h$$\n",
    "$$ \\alpha \\sim \\text{Normal}(\\mu_{\\alpha}, \\sigma_{\\alpha})$$\n",
    "$$ \\beta \\sim \\text{Normal}(\\mu_{\\beta}, \\sigma_{\\beta})$$\n",
    "\n",
    "Second choosen model was a Poisson model because it is known for working well with data where certain number of events occur in a fixed interval - in this case it is number of accidents per month.\n",
    "$$ y \\sim \\text{Poisson}(\\lambda) $$\n",
    "$$ \\lambda = a \\cdot h $$\n",
    "$$ a \\sim \\text{Normal}(\\mu_{a}, \\sigma_{a})$$"
   ]
  },
  {
   "cell_type": "markdown",
   "metadata": {},
   "source": [
    "## Priors\n",
    "\n"
   ]
  },
  {
   "cell_type": "markdown",
   "metadata": {},
   "source": [
    "### Model 1 - prior predictive checks"
   ]
  },
  {
   "cell_type": "markdown",
   "metadata": {},
   "source": [
    "Our priors have no phisical meaning of which one can be sure. However we can take some vague assumptions based on the data and other sources. We have chosen $\\mu_{\\alpha} = 4000$, because our data shows that this is a value simmilar to the mean number of accidents per voivodeship in last 20 years. To not be biased by data we picked fairly large $\\sigma_{\\alpha}$. $\\mu_{\\beta}$ and $\\sigma_{\\beta}$ were chosen to reasamble a weakly informative prior but with a wide range to better fit our expected data, which is in thousands magnitude. \n",
    "\n",
    "$$ \\alpha \\sim \\text{Normal}(4000, 1500)$$\n",
    "$$ \\beta \\sim \\text{Normal}(0, 1000)$$"
   ]
  },
  {
   "cell_type": "code",
   "execution_count": 7,
   "metadata": {},
   "outputs": [
    {
     "name": "stdout",
     "output_type": "stream",
     "text": [
      "data {\n",
      "    int<lower=0> N;\n",
      "    array[N] real temperature;\n",
      "    array[N] real<lower=0> rainfall;\n",
      "    array[N] real<lower=0, upper=100> humidity;\n",
      "}\n",
      "\n",
      "generated quantities {\n",
      "    real alpha = normal_rng(4000, 1500);\n",
      "    real beta = normal_rng(0, 1000);\n",
      "    // real c = normal_rng(10, 1000);\n",
      "\n",
      "    real<lower=0> sigma = exponential_rng(0.002);\n",
      "\n",
      "    array[N] real<lower=0> accidents_pred;\n",
      "    for (i in 1:N) {\n",
      "        accidents_pred[i] = normal_rng(alpha + beta*humidity[i], sigma);\n",
      "    }\n",
      "}\n",
      "\n",
      "\n",
      "\n",
      "// data {\n",
      "//     int<lower=0> N;\n",
      "//     // array[N] real avg_temp;\n",
      "//     // array[N] real<lower=0> rainfall;\n",
      "//     array[N] real<lower=0, upper=100> humidity;\n",
      "// }\n",
      "\n",
      "// generated quantities {\n",
      "//     real a = normal_rng(0, 10);\n",
      "//     // real b = normal_rng(0, 10);\n",
      "//     real c = normal_rng(10, 10);\n",
      "\n",
      "//     real<lower=0> sigma = exponential_rng(0.5);\n",
      "\n",
      "//     array[N] real<lower=0> accidents_pred;\n",
      "//     for (i in 1:N) {\n",
      "//         accidents_pred[i] = normal_rng(a + c*humidity[i], sigma);\n",
      "//     }\n",
      "// }\n",
      "\n",
      "\n",
      "// data {\n",
      "//     int<lower=0> N;\n",
      "//     array[N] real temperature;\n",
      "//     array[N] real<lower=0> rainfall;\n",
      "//     array[N] real<lower=0, upper=100> humidity;\n",
      "// }\n",
      "\n",
      "// generated quantities {\n",
      "//     real a = normal_rng(10, 1000);\n",
      "//     real b = normal_rng(10, 1000);\n",
      "//     real c = normal_rng(10, 1000);\n",
      "\n",
      "//     real<lower=0> sigma = exponential_rng(0.001);\n",
      "\n",
      "//     array[N] real<lower=0> accidents_pred;\n",
      "//     for (i in 1:N) {\n",
      "//         accidents_pred[i] = normal_rng(a*temperature[i] + b*rainfall[i] + c*humidity[i], sigma);\n",
      "//     }\n",
      "// }\n",
      "\n",
      "// data {\n",
      "//     int<lower=0> N;\n",
      "//     // array[N] real temperature;\n",
      "//     // array[N] real<lower=0> rainfall;\n",
      "//     array[N] real<lower=0, upper=100> humidity;\n",
      "// }\n",
      "\n",
      "// generated quantities {\n",
      "//     real a = normal_rng(0, 10);\n",
      "//     // real b = normal_rng(0, 10);\n",
      "//     real c = normal_rng(10, 10);\n",
      "\n",
      "//     real<lower=0> sigma = exponential_rng(0.5);\n",
      "\n",
      "//     array[N] real<lower=0> accidents_pred;\n",
      "//     for (i in 1:N) {\n",
      "//         accidents_pred[i] = normal_rng(a + c*humidity[i], sigma);\n",
      "//     }\n",
      "// }\n"
     ]
    }
   ],
   "source": [
    "with open(f'{STAN_PATH}/prior1.stan', 'r') as file:\n",
    "    print(file.read())"
   ]
  },
  {
   "cell_type": "code",
   "execution_count": 8,
   "metadata": {},
   "outputs": [
    {
     "name": "stderr",
     "output_type": "stream",
     "text": [
      "INFO:cmdstanpy:found newer exe file, not recompiling\n"
     ]
    }
   ],
   "source": [
    "model1_ppc = CmdStanModel(stan_file=f'{STAN_PATH}/prior1.stan')"
   ]
  },
  {
   "cell_type": "code",
   "execution_count": 9,
   "metadata": {},
   "outputs": [
    {
     "name": "stderr",
     "output_type": "stream",
     "text": [
      "INFO:cmdstanpy:CmdStan start processing\n",
      "chain 1 |\u001b[34m██████████\u001b[0m| 00:00 Sampling completed                      "
     ]
    },
    {
     "name": "stdout",
     "output_type": "stream",
     "text": [
      "                                                                                "
     ]
    },
    {
     "name": "stderr",
     "output_type": "stream",
     "text": [
      "\n",
      "INFO:cmdstanpy:CmdStan done processing.\n"
     ]
    },
    {
     "name": "stdout",
     "output_type": "stream",
     "text": [
      "\n"
     ]
    }
   ],
   "source": [
    "def data_sim(df):\n",
    "    return {'N': len(df), \n",
    "            'temperature': df['temperature'],\n",
    "            'rainfall': df['rainfall'],\n",
    "            'humidity': df['humidity']}\n",
    "\n",
    "R = 1000\n",
    "sim = model1_ppc.sample(\n",
    "    data=data_sim(data[1]),\n",
    "    iter_sampling=R,\n",
    "    iter_warmup=1,\n",
    "    chains=1,\n",
    "    fixed_param=True,\n",
    "    seed=42,\n",
    "    refresh=R\n",
    ")\n",
    "\n",
    "accidents_pred_prior = sim.stan_variable(\"accidents_pred\")\n",
    "accidents_pred_prior_means = np.mean(accidents_pred_prior, axis=0)\n",
    "alpha_pred = sim.stan_variable(\"alpha\")\n",
    "beta_pred = sim.stan_variable(\"beta\")\n",
    "sigma_pred = sim.stan_variable(\"sigma\")"
   ]
  },
  {
   "cell_type": "code",
   "execution_count": 10,
   "metadata": {},
   "outputs": [
    {
     "data": {
      "image/png": "[encoded data removed]",
      "text/plain": [
       "<Figure size 432x288 with 1 Axes>"
      ]
     },
     "metadata": {
      "needs_background": "light"
     },
     "output_type": "display_data"
    }
   ],
   "source": [
    "x = np.linspace(-0, 8000, 100)\n",
    "y = stats.norm.pdf(x=x, loc=4000, scale=1500)\n",
    "plt.hist(alpha_pred, bins=25, density=True, alpha=0.8, edgecolor='black')\n",
    "plt.plot(x, y, color='k')\n",
    "plt.xlabel('')\n",
    "plt.ylabel('')\n",
    "plt.title(r'Histogram of $\\alpha$')\n",
    "plt.show()"
   ]
  },
  {
   "cell_type": "code",
   "execution_count": 11,
   "metadata": {},
   "outputs": [
    {
     "data": {
      "image/png": "[encoded data removed]",
      "text/plain": [
       "<Figure size 432x288 with 1 Axes>"
      ]
     },
     "metadata": {
      "needs_background": "light"
     },
     "output_type": "display_data"
    }
   ],
   "source": [
    "x = np.linspace(-4000, 4000, 100)\n",
    "y = stats.norm.pdf(x=x, loc=0, scale=1000)\n",
    "plt.hist(beta_pred, bins=25, density=True, alpha=0.8, edgecolor='black')\n",
    "plt.plot(x, y, color='k')\n",
    "plt.xlabel('')\n",
    "plt.ylabel('')\n",
    "plt.title(r'Histogram of $\\beta$')\n",
    "plt.show()"
   ]
  },
  {
   "cell_type": "code",
   "execution_count": 12,
   "metadata": {},
   "outputs": [
    {
     "data": {
      "image/png": "[encoded data removed]",
      "text/plain": [
       "<Figure size 432x288 with 1 Axes>"
      ]
     },
     "metadata": {
      "needs_background": "light"
     },
     "output_type": "display_data"
    }
   ],
   "source": [
    "x = np.linspace(0, 3000, 100)\n",
    "y = stats.expon.pdf(x=x, scale=500)\n",
    "plt.hist(sigma_pred, bins=25, density=True, alpha=0.8, edgecolor='black')\n",
    "plt.plot(x, y, color='k')\n",
    "plt.xlabel('')\n",
    "plt.ylabel('')\n",
    "plt.title(r'Histogram of $\\sigma$')\n",
    "plt.show()"
   ]
  },
  {
   "cell_type": "markdown",
   "metadata": {},
   "source": [
    "\n",
    "### Model 2 - prior predictive checks"
   ]
  },
  {
   "cell_type": "code",
   "execution_count": 13,
   "metadata": {},
   "outputs": [],
   "source": [
    "with open(f\"{DATA_DIR}/intermediate/data_all.csv\") as f:\n",
    "    d = pd.read_csv(f)"
   ]
  },
  {
   "cell_type": "code",
   "execution_count": 14,
   "metadata": {},
   "outputs": [
    {
     "name": "stderr",
     "output_type": "stream",
     "text": [
      "INFO:cmdstanpy:found newer exe file, not recompiling\n"
     ]
    }
   ],
   "source": [
    "tuning = CmdStanModel(stan_file=f'{STAN_PATH}/prior_tune.stan')"
   ]
  },
  {
   "cell_type": "code",
   "execution_count": 15,
   "metadata": {},
   "outputs": [
    {
     "name": "stdout",
     "output_type": "stream",
     "text": [
      "a upper bound: 174.21\n"
     ]
    }
   ],
   "source": [
    "# a upper bound calculation\n",
    "mean_humidity = np.mean(d['humidity'])\n",
    "root_of_lambda = np.polynomial.polynomial.polyroots([-15000., 3., 1.])\n",
    "root_of_a = np.polynomial.polynomial.polyroots([-15000./mean_humidity, 3./np.sqrt(mean_humidity), 1.])\n",
    "a_ub = root_of_a[root_of_lambda>0]**2\n",
    "print(f'a upper bound: {a_ub[0]:.2f}')"
   ]
  },
  {
   "cell_type": "code",
   "execution_count": 16,
   "metadata": {},
   "outputs": [
    {
     "name": "stderr",
     "output_type": "stream",
     "text": [
      "INFO:cmdstanpy:CmdStan start processing\n",
      "chain 1 |\u001b[34m██████████\u001b[0m| 00:00 Sampling completed"
     ]
    },
    {
     "name": "stdout",
     "output_type": "stream",
     "text": [
      "                                                                                "
     ]
    },
    {
     "name": "stderr",
     "output_type": "stream",
     "text": [
      "\n",
      "INFO:cmdstanpy:CmdStan done processing.\n"
     ]
    },
    {
     "name": "stdout",
     "output_type": "stream",
     "text": [
      "\n",
      "Computed suggested standard deviation for parameter a: 68\n"
     ]
    }
   ],
   "source": [
    "# sigma_a calculation\n",
    "data_tune = dict(y_guess = np.array([np.log(100)]),\n",
    "                 theta = np.array(a_ub))\n",
    "tuned = tuning.sample(data=data_tune,\n",
    "                      seed=1052020,\n",
    "                      fixed_param=True,\n",
    "                      iter_sampling=1, \n",
    "                      iter_warmup=1,\n",
    "                      #   show_console=True,\n",
    "                      chains=1)\n",
    "sigma = tuned.stan_variable('sigma')[0]\n",
    "print(f'Computed suggested standard deviation for parameter a: {sigma:.0f}')"
   ]
  },
  {
   "cell_type": "markdown",
   "metadata": {},
   "source": [
    "The distribution of the parameter $a$ was selected through a series of steps. First, we determined the upper bound of $\\lambda$. Historically, the highest number of accidents per month per voivodeship is approximately 7,000. To ensure we were not biased by searching for patterns in the data, we set the upper bound to be at least twice this highest recorded value, resulting in an upper bound of 15,000.\n",
    "\n",
    "Next, we used a known equation for the upper bound based on $\\lambda = a \\cdot h_{\\text{avg}}$, where $h_{\\text{avg}}$ is the mean value of humidity in the dataset:\n",
    "\n",
    "$$ a \\cdot h_{\\text{avg}} + 3 \\sqrt{a \\cdot h_{\\text{avg}}} \\approx 15{,}000 \\implies a \\cdot h_{\\text{avg}} = 14{,}637 $$\n",
    "\n",
    "This relationship was then utilized to tune the priors in the model, which returned the suggested value for $\\sigma_{a}$:\n",
    "\n",
    "$$a \\sim \\text{Normal}(0, 68) $$"
   ]
  },
  {
   "cell_type": "code",
   "execution_count": 17,
   "metadata": {},
   "outputs": [
    {
     "name": "stdout",
     "output_type": "stream",
     "text": [
      "data {\n",
      "    int<lower=0> N;\n",
      "    // array[N] real temperature;\n",
      "    // array[N] real<lower=0> rainfall;\n",
      "    array[N] real<lower=0, upper=100> humidity;\n",
      "}\n",
      "\n",
      "generated quantities {\n",
      "    real a = abs(normal_rng(0, 67));    // 82\n",
      "    // real b = normal_rng(0, 10);\n",
      "    // real c = normal_rng(10, 10);\n",
      "\n",
      "    // real<lower=0> sigma = exponential_rng(0.5);\n",
      "\n",
      "    array[N] int<lower=0> accidents_pred;\n",
      "    for (i in 1:N) {\n",
      "        accidents_pred[i] = poisson_rng(a*humidity[i]);\n",
      "    }\n",
      "}\n",
      "\n",
      "\n"
     ]
    }
   ],
   "source": [
    "with open(f'{STAN_PATH}/prior2.stan', 'r') as file:\n",
    "    print(file.read())"
   ]
  },
  {
   "cell_type": "code",
   "execution_count": 18,
   "metadata": {},
   "outputs": [
    {
     "name": "stderr",
     "output_type": "stream",
     "text": [
      "INFO:cmdstanpy:found newer exe file, not recompiling\n"
     ]
    }
   ],
   "source": [
    "model2_ppc = CmdStanModel(stan_file=f'{STAN_PATH}/prior2.stan')"
   ]
  },
  {
   "cell_type": "code",
   "execution_count": 19,
   "metadata": {},
   "outputs": [
    {
     "name": "stderr",
     "output_type": "stream",
     "text": [
      "INFO:cmdstanpy:CmdStan start processing\n",
      "chain 1 |\u001b[34m██████████\u001b[0m| 00:00 Sampling completed                      "
     ]
    },
    {
     "name": "stdout",
     "output_type": "stream",
     "text": [
      "                                                                                "
     ]
    },
    {
     "name": "stderr",
     "output_type": "stream",
     "text": [
      "\n",
      "INFO:cmdstanpy:CmdStan done processing.\n"
     ]
    },
    {
     "name": "stdout",
     "output_type": "stream",
     "text": [
      "\n"
     ]
    }
   ],
   "source": [
    "def data_sim(df):\n",
    "    return {'N': len(df), \n",
    "            'temperature': df['temperature'],\n",
    "            'rainfall': df['rainfall'],\n",
    "            'humidity': df['humidity']}\n",
    "\n",
    "R = 1000\n",
    "sim = model2_ppc.sample(\n",
    "    data=data_sim(data[1]),\n",
    "    iter_sampling=R,\n",
    "    iter_warmup=1,\n",
    "    chains=1,\n",
    "    fixed_param=True,\n",
    "    seed=42,\n",
    "    refresh=R\n",
    ")\n",
    "\n",
    "accidents_pred_prior = sim.stan_variable(\"accidents_pred\")\n",
    "accidents_pred_prior_means = np.mean(accidents_pred_prior, axis=0)\n",
    "a_pred = sim.stan_variable(\"a\")\n",
    "# beta_pred = sim.stan_variable(\"beta\")\n",
    "# sigma_pred = sim.stan_variable(\"sigma\")"
   ]
  },
  {
   "cell_type": "code",
   "execution_count": 20,
   "metadata": {},
   "outputs": [
    {
     "data": {
      "image/png": "[encoded data removed]",
      "text/plain": [
       "<Figure size 432x288 with 1 Axes>"
      ]
     },
     "metadata": {
      "needs_background": "light"
     },
     "output_type": "display_data"
    }
   ],
   "source": [
    "x = np.linspace(0, 250, 100)\n",
    "y = 2 * stats.norm.pdf(x=x, loc=0, scale=67)\n",
    "plt.hist(a_pred, bins=25, density=True, alpha=0.8, edgecolor='black')\n",
    "plt.plot(x, y, color='k')\n",
    "plt.xlabel('')\n",
    "plt.ylabel('')\n",
    "plt.title(r'Histogram of $\\alpha$')\n",
    "plt.show()"
   ]
  },
  {
   "cell_type": "markdown",
   "metadata": {},
   "source": [
    "## Posterior analysis (model 1)"
   ]
  },
  {
   "cell_type": "code",
   "execution_count": 21,
   "metadata": {},
   "outputs": [
    {
     "name": "stdout",
     "output_type": "stream",
     "text": [
      "data {\n",
      "    int<lower=0> N;\n",
      "    array[N] real temperature;\n",
      "    // array[N] real<lower=0> rainfall;\n",
      "    array[N] real<lower=0, upper=100> humidity;\n",
      "    array[N] real<lower=0> accidents;\n",
      "}\n",
      "\n",
      "parameters {\n",
      "    real alpha;\n",
      "    real beta;\n",
      "    // real c;\n",
      "    real<lower=0> sigma;\n",
      "}\n",
      "\n",
      "transformed parameters {\n",
      "    vector[N] mu;\n",
      "    for (i in 1:N) {\n",
      "        mu[i] = humidity[i]*beta + alpha;\n",
      "    }\n",
      "}\n",
      "\n",
      "model {\n",
      "    alpha ~ normal(4000, 1500);\n",
      "    beta ~ normal(0, 1000);\n",
      "    // c ~ normal(0, 2000);\n",
      "    sigma ~ exponential(0.002);\n",
      "\n",
      "    accidents ~ normal(mu, sigma);\n",
      "    // for (i in 1:N) {\n",
      "    //     accidents ~ normal(a*temperature[i] + c*humidity[i], sigma);\n",
      "    // }\n",
      "}\n",
      "\n",
      "generated quantities {\n",
      "    array[N] real accidents_pred;\n",
      "    array[N] real log_lik;\n",
      "    for (i in 1:N) {\n",
      "        log_lik[i] = normal_lpdf(accidents[i] | mu[i], sigma);\n",
      "        accidents_pred[i] = normal_rng(mu[i], sigma);\n",
      "    }\n",
      "}\n",
      "\n",
      "\n",
      "\n",
      "// data {\n",
      "//     int<lower=0> N;\n",
      "//     array[N] real temperature;\n",
      "//     // array[N] real<lower=0> rainfall;\n",
      "//     array[N] real<lower=0, upper=100> humidity;\n",
      "//     array[N] real<lower=0> accidents;\n",
      "// }\n",
      "\n",
      "// parameters {\n",
      "//     real a;\n",
      "//     // real b;\n",
      "//     real c;\n",
      "//     real<lower=0> sigma;\n",
      "// }\n",
      "\n",
      "// model {\n",
      "//     a ~ normal(0, 2000);\n",
      "//     // b ~ normal(0, 10);\n",
      "//     c ~ normal(0, 2000);\n",
      "//     sigma ~ exponential(0.5);\n",
      "\n",
      "//     for (i in 1:N) {\n",
      "//         accidents ~ normal(a*temperature[i] + c*humidity[i], sigma);\n",
      "//     }\n",
      "// }\n",
      "\n",
      "// generated quantities {\n",
      "//     array[N] real accidents_pred;\n",
      "//     for (i in 1:N) {\n",
      "//         accidents_pred[i] = normal_rng(a*temperature[i] + c*humidity[i], sigma);\n",
      "//     }\n",
      "// }\n",
      "\n",
      "// # predicting 11 & 12 month\n",
      "\n",
      "// data {\n",
      "//     int<lower=0> N;     # N = 12\n",
      "//     int d=2;              # two last months\n",
      "//     array[N] real avg_temp;\n",
      "//     // array[N] real<lower=0> rainfall;\n",
      "//     array[N] real<lower=0, upper=100> humidity;\n",
      "//     array[N] real<lower=0> accidents;\n",
      "// }\n",
      "\n",
      "// parameters {\n",
      "//     real a;\n",
      "//     // real b;\n",
      "//     real c;\n",
      "//     real<lower=0> sigma;\n",
      "// }\n",
      "\n",
      "// model {\n",
      "//     a ~ normal(0, 10);\n",
      "//     // b ~ normal(0, 10);\n",
      "//     c ~ normal(0, 10);\n",
      "//     sigma ~ exponential(0.5);\n",
      "\n",
      "//     for (i in 1:(N-d)) {\n",
      "//         accidents ~ normal(a*avg_temp[i] + c*humidity[i], sigma);\n",
      "//     }\n",
      "// }\n",
      "\n",
      "// generated quantities {\n",
      "//     array[2] real accidents_pred;\n",
      "//     for (i in (N-d):N) {\n",
      "//         accidents_pred[i-(N-d)] = normal_rng(a*avg_temp[i] + c*humidity[i], sigma);\n",
      "//     }\n",
      "// }\n"
     ]
    }
   ],
   "source": [
    "with open(f'{STAN_PATH}/fit1.stan', 'r') as file:\n",
    "    print(file.read())"
   ]
  },
  {
   "cell_type": "code",
   "execution_count": 22,
   "metadata": {},
   "outputs": [
    {
     "name": "stderr",
     "output_type": "stream",
     "text": [
      "INFO:cmdstanpy:found newer exe file, not recompiling\n"
     ]
    }
   ],
   "source": [
    "model_1_fit = CmdStanModel(stan_file=f'{STAN_PATH}/fit1.stan')"
   ]
  },
  {
   "cell_type": "code",
   "execution_count": 23,
   "metadata": {},
   "outputs": [],
   "source": [
    "def fit_model1(df): \n",
    "\n",
    "    data_sim = {\n",
    "        'N': len(df), \n",
    "        'temperature': df['temperature'],\n",
    "        # 'rainfall': df['rainfall'],\n",
    "        'humidity': df['humidity'],\n",
    "        'population_density': df['population_density'],\n",
    "        # 'vehicles': df['vehicles'],\n",
    "        'accidents': df['incidents']}\n",
    "\n",
    "    fit = model_1_fit.sample(data=data_sim,\n",
    "                            output_dir='samples', \n",
    "                            show_progress=False,\n",
    "                            seed=28052020)\n",
    "\n",
    "    # a_fit = fit.stan_variable('a')\n",
    "    # b_fit = fit.stan_variable('b')\n",
    "    # c_fit = fit.stan_variable('c')\n",
    "    accidents_pred = fit.stan_variable('accidents_pred')\n",
    "\n",
    "    fig, ax1 = plt.subplots()\n",
    "    ax2 = ax1.twinx()\n",
    "\n",
    "    ax1.bar(list(df['month']), df['incidents'].values, alpha=0.5)\n",
    "    ax1.bar(list(df['month']), np.mean(accidents_pred, axis=0), alpha=0.5)\n",
    "    # ax2.invert_yaxis()\n",
    "    # ax2.set_yticks(np.arange(1, 21))\n",
    "    # ax2.set_yticklabels([i+1 for i in range(20)])\n",
    "    # ax2.scatter(list(d_new['driver_name']), d_new.race_position, color='r')\n",
    "    plt.show()\n",
    "\n",
    "    return fit"
   ]
  },
  {
   "cell_type": "code",
   "execution_count": 24,
   "metadata": {},
   "outputs": [
    {
     "name": "stderr",
     "output_type": "stream",
     "text": [
      "INFO:cmdstanpy:CmdStan start processing\n",
      "INFO:cmdstanpy:Chain [1] start processing\n",
      "INFO:cmdstanpy:Chain [2] start processing\n",
      "INFO:cmdstanpy:Chain [3] start processing\n"
     ]
    },
    {
     "name": "stderr",
     "output_type": "stream",
     "text": [
      "INFO:cmdstanpy:Chain [4] start processing\n",
      "INFO:cmdstanpy:Chain [1] done processing\n",
      "INFO:cmdstanpy:Chain [4] done processing\n",
      "INFO:cmdstanpy:Chain [3] done processing\n",
      "INFO:cmdstanpy:Chain [2] done processing\n"
     ]
    }
   ],
   "source": [
    "def data_sim(df):\n",
    "    return {\n",
    "    'N': len(df), \n",
    "    'temperature': df['temperature'],\n",
    "    # 'rainfall': df['rainfall'],\n",
    "    'humidity': df['humidity'],\n",
    "    'population_density': df['population_density'],\n",
    "    # 'vehicles': df['vehicles'],\n",
    "    'accidents': df['incidents']}\n",
    "\n",
    "sim = model_1_fit.sample(data=data_sim(data[0]),\n",
    "                        output_dir='samples', \n",
    "                        show_progress=False,\n",
    "                        seed=28052020)\n",
    "\n",
    "accidents_pred_prior = sim.stan_variable(\"accidents_pred\")\n",
    "accidents_pred_prior_means = np.mean(accidents_pred_prior, axis=0)\n",
    "alpha_pred = sim.stan_variable(\"alpha\")\n",
    "beta_pred = sim.stan_variable(\"beta\")\n",
    "sigma_pred = sim.stan_variable(\"sigma\")"
   ]
  },
  {
   "cell_type": "code",
   "execution_count": 25,
   "metadata": {},
   "outputs": [
    {
     "data": {
      "image/png": "[encoded data removed]",
      "text/plain": [
       "<Figure size 432x288 with 1 Axes>"
      ]
     },
     "metadata": {
      "needs_background": "light"
     },
     "output_type": "display_data"
    }
   ],
   "source": [
    "x = np.linspace(-0, 8000, 100)\n",
    "y = stats.norm.pdf(x=x, loc=4000, scale=1500)\n",
    "plt.hist(alpha_pred, bins=25, density=True, alpha=0.8, edgecolor='black')\n",
    "plt.plot(x, y, color='k')\n",
    "plt.xlabel('')\n",
    "plt.ylabel('')\n",
    "plt.title(r'Histogram of $\\alpha$')\n",
    "plt.show()"
   ]
  },
  {
   "cell_type": "code",
   "execution_count": 26,
   "metadata": {},
   "outputs": [
    {
     "data": {
      "image/png": "[encoded data removed]",
      "text/plain": [
       "<Figure size 432x288 with 1 Axes>"
      ]
     },
     "metadata": {
      "needs_background": "light"
     },
     "output_type": "display_data"
    }
   ],
   "source": [
    "x = np.linspace(-4000, 4000, 100)\n",
    "y = stats.norm.pdf(x=x, loc=0, scale=1000)\n",
    "plt.hist(beta_pred, bins=25, density=True, alpha=0.8, edgecolor='black')\n",
    "plt.plot(x, y, color='k')\n",
    "plt.xlabel('')\n",
    "plt.ylabel('')\n",
    "plt.title(r'Histogram of $\\beta$')\n",
    "plt.show()"
   ]
  },
  {
   "cell_type": "code",
   "execution_count": 27,
   "metadata": {},
   "outputs": [
    {
     "data": {
      "image/png": "[encoded data removed]",
      "text/plain": [
       "<Figure size 432x288 with 1 Axes>"
      ]
     },
     "metadata": {
      "needs_background": "light"
     },
     "output_type": "display_data"
    }
   ],
   "source": [
    "x = np.linspace(0, 2000, 100)\n",
    "y = stats.expon.pdf(x=x, scale=1000)\n",
    "plt.hist(sigma_pred, bins=25, density=True, alpha=0.8, edgecolor='black')\n",
    "plt.plot(x, y, color='k')\n",
    "plt.xlabel('')\n",
    "plt.ylabel('')\n",
    "plt.title(r'Histogram of $\\sigma$')\n",
    "plt.show()"
   ]
  },
  {
   "cell_type": "code",
   "execution_count": 28,
   "metadata": {},
   "outputs": [
    {
     "name": "stderr",
     "output_type": "stream",
     "text": [
      "INFO:cmdstanpy:CmdStan start processing\n",
      "INFO:cmdstanpy:Chain [1] start processing\n",
      "INFO:cmdstanpy:Chain [2] start processing\n",
      "INFO:cmdstanpy:Chain [3] start processing\n",
      "INFO:cmdstanpy:Chain [4] start processing\n",
      "INFO:cmdstanpy:Chain [1] done processing\n",
      "INFO:cmdstanpy:Chain [3] done processing\n",
      "INFO:cmdstanpy:Chain [4] done processing\n",
      "INFO:cmdstanpy:Chain [2] done processing\n"
     ]
    },
    {
     "data": {
      "image/png": "[encoded data removed]",
      "text/plain": [
       "<Figure size 432x288 with 2 Axes>"
      ]
     },
     "metadata": {
      "needs_background": "light"
     },
     "output_type": "display_data"
    },
    {
     "name": "stderr",
     "output_type": "stream",
     "text": [
      "INFO:cmdstanpy:CmdStan start processing\n",
      "INFO:cmdstanpy:Chain [1] start processing\n",
      "INFO:cmdstanpy:Chain [2] start processing\n",
      "INFO:cmdstanpy:Chain [3] start processing\n",
      "INFO:cmdstanpy:Chain [4] start processing\n",
      "INFO:cmdstanpy:Chain [2] done processing\n",
      "INFO:cmdstanpy:Chain [3] done processing\n",
      "INFO:cmdstanpy:Chain [4] done processing\n",
      "INFO:cmdstanpy:Chain [1] done processing\n"
     ]
    },
    {
     "data": {
      "image/png": "[encoded data removed]",
      "text/plain": [
       "<Figure size 432x288 with 2 Axes>"
      ]
     },
     "metadata": {
      "needs_background": "light"
     },
     "output_type": "display_data"
    },
    {
     "name": "stderr",
     "output_type": "stream",
     "text": [
      "INFO:cmdstanpy:CmdStan start processing\n",
      "INFO:cmdstanpy:Chain [1] start processing\n",
      "INFO:cmdstanpy:Chain [2] start processing\n",
      "INFO:cmdstanpy:Chain [3] start processing\n",
      "INFO:cmdstanpy:Chain [4] start processing\n",
      "INFO:cmdstanpy:Chain [2] done processing\n",
      "INFO:cmdstanpy:Chain [4] done processing\n",
      "INFO:cmdstanpy:Chain [3] done processing\n",
      "INFO:cmdstanpy:Chain [1] done processing\n"
     ]
    },
    {
     "data": {
      "image/png": "[encoded data removed]",
      "text/plain": [
       "<Figure size 432x288 with 2 Axes>"
      ]
     },
     "metadata": {
      "needs_background": "light"
     },
     "output_type": "display_data"
    }
   ],
   "source": [
    "samples1_0 = fit_model1(data[0])\n",
    "samples1_1 = fit_model1(data[1])\n",
    "samples1_2 = fit_model1(data[2])"
   ]
  },
  {
   "cell_type": "markdown",
   "metadata": {},
   "source": [
    "## Posterior analysis (model 2)"
   ]
  },
  {
   "cell_type": "markdown",
   "metadata": {},
   "source": [
    "We’re estimating number of road accidents per county per month based on weather conditions and available social data.\n",
    "Historically the highest number of accidents per month per county any is about equal 7000. Based on that we can assume the value of the upper bound of the number of accidents per month per county. To not be biased by searching for patterns in simulating data we’ll set the upper bound to be at least 2 times as big as the highest recorded data. So at the end the upper bound will be set to 15_000.\n",
    "Based on Poisson() distribution it gives:\n",
    "λ+3√λ≈15000 ⇒ λ=14637\n"
   ]
  },
  {
   "cell_type": "code",
   "execution_count": 29,
   "metadata": {},
   "outputs": [
    {
     "name": "stdout",
     "output_type": "stream",
     "text": [
      "data {\n",
      "    int<lower=0> N;\n",
      "    array[N] real<lower=0, upper=100> humidity;\n",
      "    // array[N] real<lower=-30, upper=50> avg_temp;\n",
      "    array[N] int<lower=0> accidents;\n",
      "}\n",
      "\n",
      "parameters {\n",
      "    real<lower=0> a;\n",
      "    // real b;\n",
      "}\n",
      "\n",
      "model {\n",
      "    a ~ normal(0, 67);\n",
      "    // b ~ normal(0, 40);\n",
      "    for (i in 1:N) {\n",
      "        accidents[i] ~ poisson(a*humidity[i]);\n",
      "    }\n",
      "}\n",
      "\n",
      "generated quantities {\n",
      "    array[N] int accidents_pred;\n",
      "    array[N] real log_lik;\n",
      "    for (i in 1:N) {\n",
      "        log_lik[i] = poisson_lpmf(accidents[i] | a*humidity[i]);\n",
      "        accidents_pred[i] = poisson_rng(a*humidity[i]);\n",
      "    }\n",
      "}\n"
     ]
    }
   ],
   "source": [
    "with open(f'{STAN_PATH}/fit2.stan', 'r') as file:\n",
    "    print(file.read())"
   ]
  },
  {
   "cell_type": "code",
   "execution_count": 30,
   "metadata": {},
   "outputs": [
    {
     "name": "stderr",
     "output_type": "stream",
     "text": [
      "INFO:cmdstanpy:found newer exe file, not recompiling\n"
     ]
    }
   ],
   "source": [
    "model_2_fit = CmdStanModel(stan_file=f'{STAN_PATH}/fit2.stan')"
   ]
  },
  {
   "cell_type": "code",
   "execution_count": 31,
   "metadata": {},
   "outputs": [],
   "source": [
    "def fit_model2(df): \n",
    "\n",
    "    data_sim = {\n",
    "        'N': len(df), \n",
    "        'avg_temp': df['temperature'],\n",
    "        # 'rainfall': df['rainfall'],\n",
    "        'humidity': df['humidity'],\n",
    "        'accidents': df['incidents']}\n",
    "\n",
    "    fit = model_2_fit.sample(data=data_sim,\n",
    "                            output_dir='samples', \n",
    "                            show_progress=False,\n",
    "                            seed=28052020)\n",
    "\n",
    "    a_fit = fit.stan_variable('a')\n",
    "    # b_fit = fit.stan_variable('b')\n",
    "    # c_fit = fit.stan_variable('c')\n",
    "    accidents_pred = fit.stan_variable('accidents_pred')\n",
    "\n",
    "    fig, ax1 = plt.subplots()\n",
    "    ax2 = ax1.twinx()\n",
    "\n",
    "    ax1.bar(list(df['month']), df['incidents'].values, alpha=0.5)\n",
    "    ax1.bar(list(df['month']), np.mean(accidents_pred, axis=0), alpha=0.5)\n",
    "    # ax2.invert_yaxis()\n",
    "    # ax2.set_yticks(np.arange(1, 21))\n",
    "    # ax2.set_yticklabels([i+1 for i in range(20)])\n",
    "    # ax2.scatter(list(d_new['driver_name']), d_new.race_position, color='r')\n",
    "    plt.show()\n",
    "    return fit"
   ]
  },
  {
   "cell_type": "code",
   "execution_count": 32,
   "metadata": {},
   "outputs": [
    {
     "name": "stderr",
     "output_type": "stream",
     "text": [
      "INFO:cmdstanpy:CmdStan start processing\n",
      "INFO:cmdstanpy:Chain [1] start processing\n",
      "INFO:cmdstanpy:Chain [2] start processing\n",
      "INFO:cmdstanpy:Chain [3] start processing\n",
      "INFO:cmdstanpy:Chain [4] start processing\n",
      "INFO:cmdstanpy:Chain [3] done processing\n",
      "INFO:cmdstanpy:Chain [4] done processing\n",
      "INFO:cmdstanpy:Chain [2] done processing\n",
      "INFO:cmdstanpy:Chain [1] done processing\n"
     ]
    }
   ],
   "source": [
    "def data_sim(df):\n",
    "    return {\n",
    "    'N': len(df), \n",
    "    'temperature': df['temperature'],\n",
    "    # 'rainfall': df['rainfall'],\n",
    "    'humidity': df['humidity'],\n",
    "    'population_density': df['population_density'],\n",
    "    # 'vehicles': df['vehicles'],\n",
    "    'accidents': df['incidents']}\n",
    "\n",
    "sim = model_2_fit.sample(data=data_sim(data[0]),\n",
    "                        output_dir='samples', \n",
    "                        show_progress=False,\n",
    "                        seed=28052020)\n",
    "\n",
    "accidents_pred_prior = sim.stan_variable(\"accidents_pred\")\n",
    "accidents_pred_prior_means = np.mean(accidents_pred_prior, axis=0)\n",
    "a_pred = sim.stan_variable(\"a\")"
   ]
  },
  {
   "cell_type": "code",
   "execution_count": 33,
   "metadata": {},
   "outputs": [
    {
     "data": {
      "image/png": "[encoded data removed]",
      "text/plain": [
       "<Figure size 432x288 with 1 Axes>"
      ]
     },
     "metadata": {
      "needs_background": "light"
     },
     "output_type": "display_data"
    }
   ],
   "source": [
    "x = np.linspace(-0, 300, 100)\n",
    "y = stats.norm.pdf(x=x, loc=0, scale=82)\n",
    "plt.hist(alpha_pred, bins=25, density=True, alpha=0.8, edgecolor='black')\n",
    "plt.plot(x, y, color='k')\n",
    "plt.xlabel('')\n",
    "plt.ylabel('')\n",
    "plt.title(r'Histogram of $\\alpha$')\n",
    "plt.show()"
   ]
  },
  {
   "cell_type": "code",
   "execution_count": 34,
   "metadata": {},
   "outputs": [
    {
     "name": "stderr",
     "output_type": "stream",
     "text": [
      "INFO:cmdstanpy:CmdStan start processing\n",
      "INFO:cmdstanpy:Chain [1] start processing\n",
      "INFO:cmdstanpy:Chain [2] start processing\n",
      "INFO:cmdstanpy:Chain [3] start processing\n",
      "INFO:cmdstanpy:Chain [4] start processing\n",
      "INFO:cmdstanpy:Chain [4] done processing\n",
      "INFO:cmdstanpy:Chain [1] done processing\n",
      "INFO:cmdstanpy:Chain [2] done processing\n",
      "INFO:cmdstanpy:Chain [3] done processing\n"
     ]
    },
    {
     "data": {
      "image/png": "[encoded data removed]",
      "text/plain": [
       "<Figure size 432x288 with 2 Axes>"
      ]
     },
     "metadata": {
      "needs_background": "light"
     },
     "output_type": "display_data"
    },
    {
     "name": "stderr",
     "output_type": "stream",
     "text": [
      "INFO:cmdstanpy:CmdStan start processing\n",
      "INFO:cmdstanpy:Chain [1] start processing\n",
      "INFO:cmdstanpy:Chain [2] start processing\n",
      "INFO:cmdstanpy:Chain [3] start processing\n",
      "INFO:cmdstanpy:Chain [4] start processing\n",
      "INFO:cmdstanpy:Chain [4] done processing\n",
      "INFO:cmdstanpy:Chain [1] done processing\n",
      "INFO:cmdstanpy:Chain [3] done processing\n",
      "INFO:cmdstanpy:Chain [2] done processing\n"
     ]
    },
    {
     "data": {
      "image/png": "[encoded data removed]",
      "text/plain": [
       "<Figure size 432x288 with 2 Axes>"
      ]
     },
     "metadata": {
      "needs_background": "light"
     },
     "output_type": "display_data"
    },
    {
     "name": "stderr",
     "output_type": "stream",
     "text": [
      "INFO:cmdstanpy:CmdStan start processing\n",
      "INFO:cmdstanpy:Chain [1] start processing\n",
      "INFO:cmdstanpy:Chain [2] start processing\n",
      "INFO:cmdstanpy:Chain [3] start processing\n",
      "INFO:cmdstanpy:Chain [4] start processing\n",
      "INFO:cmdstanpy:Chain [1] done processing\n",
      "INFO:cmdstanpy:Chain [4] done processing\n",
      "INFO:cmdstanpy:Chain [2] done processing\n",
      "INFO:cmdstanpy:Chain [3] done processing\n"
     ]
    },
    {
     "data": {
      "image/png": "[encoded data removed]",
      "text/plain": [
       "<Figure size 432x288 with 2 Axes>"
      ]
     },
     "metadata": {
      "needs_background": "light"
     },
     "output_type": "display_data"
    }
   ],
   "source": [
    "samples2_0 = fit_model2(data[0])\n",
    "samples2_1 = fit_model2(data[1])\n",
    "samples2_2 = fit_model2(data[2])"
   ]
  },
  {
   "cell_type": "markdown",
   "metadata": {},
   "source": [
    "## Model comparison"
   ]
  },
  {
   "cell_type": "code",
   "execution_count": 35,
   "metadata": {},
   "outputs": [],
   "source": [
    "# model1_data = az.from_cmdstanpy(posterior=samples1_0,\n",
    "#                                 log_likelihood='log_lik',\n",
    "#                                 posterior_predictive='y_hat')\n",
    "\n",
    "# model2_data = az.from_cmdstanpy(posterior=samples2_0,\n",
    "#                                 log_likelihood='log_lik',\n",
    "#                                 posterior_predictive='y_hat')"
   ]
  },
  {
   "cell_type": "code",
   "execution_count": 36,
   "metadata": {},
   "outputs": [],
   "source": [
    "comp_dict = {\"model 1\": samples1_0,\n",
    "             \"model 2\": samples2_0}\n"
   ]
  },
  {
   "cell_type": "markdown",
   "metadata": {},
   "source": [
    "### WAIC criterion"
   ]
  },
  {
   "cell_type": "code",
   "execution_count": 37,
   "metadata": {},
   "outputs": [
    {
     "name": "stderr",
     "output_type": "stream",
     "text": [
      "/usr/local/lib/python3.12/site-packages/arviz/stats/stats.py:1635: UserWarning: For one or more samples the posterior variance of the log predictive densities exceeds 0.4. This could be indication of WAIC starting to fail. \n",
      "See http://arxiv.org/abs/1507.04544 for details\n",
      "  warnings.warn(\n"
     ]
    },
    {
     "name": "stdout",
     "output_type": "stream",
     "text": [
      "         rank         waic     p_waic       d_waic  weight          se  \\\n",
      "model 1     0   191.234867   1.598767     0.000000     1.0    2.661224   \n",
      "model 2     1  1378.927715  89.823352  1187.692848     0.0  438.388220   \n",
      "\n",
      "                dse  warning waic_scale  \n",
      "model 1    0.000000    False   deviance  \n",
      "model 2  436.856386     True   deviance  \n"
     ]
    },
    {
     "data": {
      "image/png": "[encoded data removed]",
      "text/plain": [
       "<Figure size 432x144 with 1 Axes>"
      ]
     },
     "metadata": {
      "needs_background": "light"
     },
     "output_type": "display_data"
    }
   ],
   "source": [
    "comp_waic = az.compare(comp_dict, ic=\"waic\", scale='deviance')\n",
    "print(comp_waic)\n",
    "az.plot_compare(comp_waic)\n",
    "plt.title('WAIC result')\n",
    "plt.show()"
   ]
  },
  {
   "cell_type": "markdown",
   "metadata": {},
   "source": [
    "### PSIS-LOO criterion"
   ]
  },
  {
   "cell_type": "code",
   "execution_count": 38,
   "metadata": {},
   "outputs": [
    {
     "name": "stderr",
     "output_type": "stream",
     "text": [
      "/usr/local/lib/python3.12/site-packages/arviz/stats/stats.py:811: UserWarning: Estimated shape parameter of Pareto distribution is greater than 0.7 for one or more samples. You should consider using a more robust model, this is because importance sampling is less likely to work well if the marginal posterior and LOO posterior are very different. This is more likely to happen with a non-robust model and highly influential observations.\n",
      "  warnings.warn(\n"
     ]
    },
    {
     "name": "stdout",
     "output_type": "stream",
     "text": [
      "         rank         loo      p_loo       d_loo  weight          se  \\\n",
      "model 1     0  -95.678059   1.659392    0.000000     1.0    1.345074   \n",
      "model 2     1 -679.393675  79.753169  583.715616     0.0  213.949351   \n",
      "\n",
      "                dse  warning loo_scale  \n",
      "model 1    0.000000    False       log  \n",
      "model 2  213.153664     True       log  \n"
     ]
    },
    {
     "data": {
      "image/png": "[encoded data removed]",
      "text/plain": [
       "<Figure size 432x144 with 1 Axes>"
      ]
     },
     "metadata": {
      "needs_background": "light"
     },
     "output_type": "display_data"
    }
   ],
   "source": [
    "comp_loo = az.compare(comp_dict, ic=\"loo\")\n",
    "print(comp_loo)\n",
    "az.plot_compare(comp_loo)\n",
    "plt.title('LOO result')\n",
    "plt.show()"
   ]
  },
  {
   "cell_type": "markdown",
   "metadata": {},
   "source": []
  }
 ],
 "metadata": {
  "kernelspec": {
   "display_name": "Python 3",
   "language": "python",
   "name": "python3"
  },
  "language_info": {
   "codemirror_mode": {
    "name": "ipython",
    "version": 3
   },
   "file_extension": ".py",
   "mimetype": "text/x-python",
   "name": "python",
   "nbconvert_exporter": "python",
   "pygments_lexer": "ipython3",
   "version": "3.12.2"
  }
 },
 "nbformat": 4,
 "nbformat_minor": 2
}
