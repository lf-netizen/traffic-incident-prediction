{
 "cells": [
  {
   "cell_type": "markdown",
   "metadata": {},
   "source": [
    "---\n",
    "# Bayesian approach to traffic incident prediction\n",
    "\n",
    "Adam Filapek, Łukasz Faruga\n",
    "\n",
    "---\n",
    "\n",
    "#### [GitHub repo link](https://github.com/lf-netizen/traffic-incident-prediction)\n",
    "_The project aims to be one-click reproducible. Instructions in the repo._"
   ]
  },
  {
   "cell_type": "markdown",
   "metadata": {
    "vscode": {
     "languageId": "plaintext"
    }
   },
   "source": [
    "## 1. Introduction\n",
    "Road traffic accidents constitute a significant global public health challenge. According to the World Health Organization (WHO), an estimated 1.19 million road traffic fatalities occurred in 2021, with a disproportionate burden on low- and middle-income countries [1]. Projections indicate that by 2030, road traffic injuries will ascend to become the seventh leading cause of death worldwide [6].\n",
    "The economic impact of these incidents is equally concerning. Estimates suggest that road injuries will impose a US$1.8 trillion burden on the global economy between 2015 and 2030 (in constant 2010 US dollars) [7].\n",
    "\n",
    "Various approaches to model this phenomena have been proposed.\n",
    "Popular methods include neural networks, such as Multilayer Perceptrons (MLPs) [5] or Convolutional Neural Networks (CNNs) [2].\n",
    "Alongside predictive performance, model interpretability remains important for deriving actionable insights. Algoritms using i.e. tree-based methods like random forests or ensemble methods such as gradient boosting or XGBoost allow for identifying important features with the explainable ML (XML) techniques [3].\n",
    "\n",
    "These predictive models incorporate a wide range of variables, including but not limited to traffic flow patterns, meteorological and lightning conditions, driver demographics and experience, vehicle classifications, geographical locations, and road surface conditions [2][3].\n",
    "\n",
    "### Our project\n",
    "This project focuses on developing a Bayesian model to predict traffic incident counts based on weather data. Our objective is to generate monthly predictions at the voivodeship level in Poland.\n",
    "\n",
    "The insights derived from such model have potential applications across various sectors. Government authorities could leverage these predictions to inform long-term infrastructure decisions, such as road improvements or hospital placements. Additionally, the model could guide the strategic deployment of emergency responders during periods of heightened incident risk.\n",
    "Public institutions stand to benefit as well, using the data to tailor their awareness campaigns and more effectively alert drivers to potential dangers. In the private sector, insurance companies might incorporate these predictions into their risk assessment processes and pricing models, allowing for more accurate policy adjustments.\n",
    "\n",
    "1. WHO, Global status report on road safety 2023 https://iris.who.int/bitstream/handle/10665/375016/9789240086517-eng.pdf?sequence=1\n",
    "2. https://ieeexplore.ieee.org/abstract/document/8056908/authors#authors\n",
    "3. https://www.sciencedirect.com/science/article/pii/S2590198223000611?via%3Dihub\n",
    "4. https://link.springer.com/article/10.1007/s42452-020-3125-1\n",
    "5. https://www.pccoer.com/NAAC/CR-3/3.3.1/13.%202021-22civil13.pdf\n",
    "6. https://www.researchgate.net/publication/370299859_Road_traffic_accidental_injuries_and_deaths_A_neglected_global_health_issue\n",
    "7. https://www.sciencedirect.com/science/article/pii/S2542519619301706"
   ]
  }
 ],
 "metadata": {
  "language_info": {
   "name": "python"
  }
 },
 "nbformat": 4,
 "nbformat_minor": 2
}
