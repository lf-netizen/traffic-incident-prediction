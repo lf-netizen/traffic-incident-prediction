{
 "cells": [
  {
   "cell_type": "code",
   "execution_count": null,
   "metadata": {},
   "outputs": [],
   "source": [
    "import os\n",
    "import requests\n",
    "import tempfile\n",
    "import zipfile\n",
    "from pathlib import Path\n",
    "import concurrent.futures"
   ]
  },
  {
   "cell_type": "code",
   "execution_count": null,
   "metadata": {},
   "outputs": [],
   "source": [
    "PROJECT_ROOT = Path(os.getenv(\"PROJECT_ROOT\"))\n",
    "DIR_BASE = PROJECT_ROOT / 'data/input/weather/'"
   ]
  },
  {
   "cell_type": "code",
   "execution_count": null,
   "metadata": {},
   "outputs": [],
   "source": [
    "years = list(range(2018, 2023))\n",
    "months = [f\"{i:02}\" for i in range(1, 13)]"
   ]
  },
  {
   "cell_type": "code",
   "execution_count": null,
   "metadata": {},
   "outputs": [],
   "source": [
    "URL_BASE = \"https://danepubliczne.imgw.pl/pl/datastore/getfiledown/Arch/Telemetria/Meteo/\"\n",
    "URL_DATA = URL_BASE + \"{year}/Meteo_{year}-{month}.zip\"\n",
    "\n",
    "FILES_META = [\n",
    "    \"kody_parametr.csv\",\n",
    "    \"kody_stacji.csv\",\n",
    "    \"opis.txt\"\n",
    "]"
   ]
  },
  {
   "cell_type": "code",
   "execution_count": null,
   "metadata": {},
   "outputs": [],
   "source": [
    "def download_and_extract(url, extract_dir):\n",
    "    os.makedirs(extract_dir, exist_ok=True)\n",
    "\n",
    "    response = requests.get(url)\n",
    "    \n",
    "    if response.status_code != 200:\n",
    "        print(f\"Failed to download the file. Status code: {response.status_code}\")\n",
    "        return\n",
    "\n",
    "    with tempfile.NamedTemporaryFile(delete=False) as temp_file:\n",
    "        temp_file.write(response.content)\n",
    "        temp_file_path = temp_file.name\n",
    "\n",
    "    with zipfile.ZipFile(temp_file_path, 'r') as zip_ref:\n",
    "        zip_ref.extractall(extract_dir)\n",
    "\n",
    "    os.unlink(temp_file_path)\n",
    "    print(f\"Downloaded file {url.split('/')[-1]} and extracted to {extract_dir}\")\n"
   ]
  },
  {
   "cell_type": "code",
   "execution_count": null,
   "metadata": {},
   "outputs": [],
   "source": [
    "with concurrent.futures.ThreadPoolExecutor(max_workers=8) as executor:\n",
    "    for year in years:\n",
    "        for month in months:\n",
    "            url = URL_DATA.format(year=year, month=month)\n",
    "            dir = DIR_BASE / str(year) / month\n",
    "\n",
    "            # Fix for 2021\n",
    "            if year == 2021 and month in ['01', '02']:\n",
    "                url = url.replace(\"zip\", \"ZIP\")\n",
    "\n",
    "            executor.submit(download_and_extract, url, dir)"
   ]
  },
  {
   "cell_type": "code",
   "execution_count": null,
   "metadata": {},
   "outputs": [],
   "source": [
    "for filename in FILES_META:\n",
    "    url = URL_BASE + filename\n",
    "    response = requests.get(url)\n",
    "    \n",
    "    if response.status_code != 200:\n",
    "        print(f\"Failed to download the file. Status code: {response.status_code}\")\n",
    "        continue\n",
    "    \n",
    "    with open(DIR_BASE / filename, 'wb') as f:\n",
    "        f.write(response.content) \n",
    "    \n",
    "    print(f\"Downloaded file {filename}\")"
   ]
  }
 ],
 "metadata": {
  "kernelspec": {
   "display_name": "reddit-scrape",
   "language": "python",
   "name": "python3"
  },
  "language_info": {
   "codemirror_mode": {
    "name": "ipython",
    "version": 3
   },
   "file_extension": ".py",
   "mimetype": "text/x-python",
   "name": "python",
   "nbconvert_exporter": "python",
   "pygments_lexer": "ipython3",
   "version": "3.10.14"
  }
 },
 "nbformat": 4,
 "nbformat_minor": 2
}
