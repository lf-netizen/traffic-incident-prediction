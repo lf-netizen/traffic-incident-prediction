{
 "cells": [
  {
   "cell_type": "code",
   "execution_count": 1,
   "metadata": {
    "execution": {
     "iopub.execute_input": "2024-07-08T09:46:38.524219Z",
     "iopub.status.busy": "2024-07-08T09:46:38.523896Z",
     "iopub.status.idle": "2024-07-08T09:46:38.868860Z",
     "shell.execute_reply": "2024-07-08T09:46:38.867833Z"
    }
   },
   "outputs": [],
   "source": [
    "import os\n",
    "import pandas as pd\n",
    "from pathlib import Path"
   ]
  },
  {
   "cell_type": "code",
   "execution_count": 2,
   "metadata": {
    "execution": {
     "iopub.execute_input": "2024-07-08T09:46:38.872356Z",
     "iopub.status.busy": "2024-07-08T09:46:38.871817Z",
     "iopub.status.idle": "2024-07-08T09:46:38.879154Z",
     "shell.execute_reply": "2024-07-08T09:46:38.874922Z"
    }
   },
   "outputs": [],
   "source": [
    "PROJECT_ROOT = Path(os.getenv(\"PROJECT_ROOT\"))\n",
    "DATA_DIR = PROJECT_ROOT / 'data/input/incidents/'"
   ]
  },
  {
   "cell_type": "code",
   "execution_count": 3,
   "metadata": {
    "execution": {
     "iopub.execute_input": "2024-07-08T09:46:38.891949Z",
     "iopub.status.busy": "2024-07-08T09:46:38.891512Z",
     "iopub.status.idle": "2024-07-08T09:46:38.895786Z",
     "shell.execute_reply": "2024-07-08T09:46:38.894976Z"
    }
   },
   "outputs": [],
   "source": [
    "years = list(range(2018, 2023))\n",
    "voivodeships = [\n",
    "    \"dolnośląskie\",\n",
    "    \"kujawsko-pomorskie\",\n",
    "    \"lubelskie\",\n",
    "    \"lubuskie\",\n",
    "    \"mazowieckie\",\n",
    "    \"małopolskie\",\n",
    "    \"opolskie\",\n",
    "    \"podkarpackie\",\n",
    "    \"podlaskie\",\n",
    "    \"pomorskie\",\n",
    "    \"warmińsko-mazurskie\",\n",
    "    \"wielkopolskie\",\n",
    "    \"zachodniopomorskie\",\n",
    "    \"łódzkie\",\n",
    "    \"śląskie\",\n",
    "    \"świętokrzyskie\"\n",
    "]"
   ]
  },
  {
   "cell_type": "code",
   "execution_count": 4,
   "metadata": {
    "execution": {
     "iopub.execute_input": "2024-07-08T09:46:38.903627Z",
     "iopub.status.busy": "2024-07-08T09:46:38.903403Z",
     "iopub.status.idle": "2024-07-08T09:46:39.473682Z",
     "shell.execute_reply": "2024-07-08T09:46:39.472906Z"
    }
   },
   "outputs": [
    {
     "data": {
      "text/html": [
       "<div>\n",
       "<style scoped>\n",
       "    .dataframe tbody tr th:only-of-type {\n",
       "        vertical-align: middle;\n",
       "    }\n",
       "\n",
       "    .dataframe tbody tr th {\n",
       "        vertical-align: top;\n",
       "    }\n",
       "\n",
       "    .dataframe thead th {\n",
       "        text-align: right;\n",
       "    }\n",
       "</style>\n",
       "<table border=\"1\" class=\"dataframe\">\n",
       "  <thead>\n",
       "    <tr style=\"text-align: right;\">\n",
       "      <th></th>\n",
       "      <th>year</th>\n",
       "      <th>month</th>\n",
       "      <th>voivodeship</th>\n",
       "      <th>incidents</th>\n",
       "    </tr>\n",
       "  </thead>\n",
       "  <tbody>\n",
       "    <tr>\n",
       "      <th>0</th>\n",
       "      <td>2018</td>\n",
       "      <td>01</td>\n",
       "      <td>dolnośląskie</td>\n",
       "      <td>3382</td>\n",
       "    </tr>\n",
       "    <tr>\n",
       "      <th>1</th>\n",
       "      <td>2018</td>\n",
       "      <td>02</td>\n",
       "      <td>dolnośląskie</td>\n",
       "      <td>3095</td>\n",
       "    </tr>\n",
       "    <tr>\n",
       "      <th>2</th>\n",
       "      <td>2018</td>\n",
       "      <td>03</td>\n",
       "      <td>dolnośląskie</td>\n",
       "      <td>3750</td>\n",
       "    </tr>\n",
       "    <tr>\n",
       "      <th>3</th>\n",
       "      <td>2018</td>\n",
       "      <td>04</td>\n",
       "      <td>dolnośląskie</td>\n",
       "      <td>3478</td>\n",
       "    </tr>\n",
       "    <tr>\n",
       "      <th>4</th>\n",
       "      <td>2018</td>\n",
       "      <td>05</td>\n",
       "      <td>dolnośląskie</td>\n",
       "      <td>3680</td>\n",
       "    </tr>\n",
       "    <tr>\n",
       "      <th>...</th>\n",
       "      <td>...</td>\n",
       "      <td>...</td>\n",
       "      <td>...</td>\n",
       "      <td>...</td>\n",
       "    </tr>\n",
       "    <tr>\n",
       "      <th>955</th>\n",
       "      <td>2022</td>\n",
       "      <td>08</td>\n",
       "      <td>świętokrzyskie</td>\n",
       "      <td>971</td>\n",
       "    </tr>\n",
       "    <tr>\n",
       "      <th>956</th>\n",
       "      <td>2022</td>\n",
       "      <td>09</td>\n",
       "      <td>świętokrzyskie</td>\n",
       "      <td>873</td>\n",
       "    </tr>\n",
       "    <tr>\n",
       "      <th>957</th>\n",
       "      <td>2022</td>\n",
       "      <td>10</td>\n",
       "      <td>świętokrzyskie</td>\n",
       "      <td>972</td>\n",
       "    </tr>\n",
       "    <tr>\n",
       "      <th>958</th>\n",
       "      <td>2022</td>\n",
       "      <td>11</td>\n",
       "      <td>świętokrzyskie</td>\n",
       "      <td>841</td>\n",
       "    </tr>\n",
       "    <tr>\n",
       "      <th>959</th>\n",
       "      <td>2022</td>\n",
       "      <td>12</td>\n",
       "      <td>świętokrzyskie</td>\n",
       "      <td>1044</td>\n",
       "    </tr>\n",
       "  </tbody>\n",
       "</table>\n",
       "<p>960 rows × 4 columns</p>\n",
       "</div>"
      ],
      "text/plain": [
       "     year month     voivodeship  incidents\n",
       "0    2018    01    dolnośląskie       3382\n",
       "1    2018    02    dolnośląskie       3095\n",
       "2    2018    03    dolnośląskie       3750\n",
       "3    2018    04    dolnośląskie       3478\n",
       "4    2018    05    dolnośląskie       3680\n",
       "..    ...   ...             ...        ...\n",
       "955  2022    08  świętokrzyskie        971\n",
       "956  2022    09  świętokrzyskie        873\n",
       "957  2022    10  świętokrzyskie        972\n",
       "958  2022    11  świętokrzyskie        841\n",
       "959  2022    12  świętokrzyskie       1044\n",
       "\n",
       "[960 rows x 4 columns]"
      ]
     },
     "execution_count": 4,
     "metadata": {},
     "output_type": "execute_result"
    }
   ],
   "source": [
    "dfs = []\n",
    "for year in years:\n",
    "    for voivodeship in voivodeships:\n",
    "        path = DATA_DIR / f'{year}/{voivodeship}/zmienność-miesięczna.csv'\n",
    "        df = pd.read_csv(path)\n",
    "        df.rename(columns={'miesiac': 'month', 'zdarzenia': 'incidents'}, inplace=True)\n",
    "\n",
    "        df['voivodeship'] = voivodeship\n",
    "        df['year'] = year\n",
    "\n",
    "        df['month'] = df['month'].apply(lambda x: f\"{int(x.split('. ')[0]):02d}\")\n",
    "\n",
    "        dfs.append(df)\n",
    "\n",
    "\n",
    "df_incidences = pd.concat(dfs, ignore_index=True).reindex(['year', 'month', 'voivodeship', 'incidents'], axis=1)\n",
    "df_incidences"
   ]
  },
  {
   "cell_type": "code",
   "execution_count": 5,
   "metadata": {
    "execution": {
     "iopub.execute_input": "2024-07-08T09:46:39.507762Z",
     "iopub.status.busy": "2024-07-08T09:46:39.507295Z",
     "iopub.status.idle": "2024-07-08T09:46:39.518224Z",
     "shell.execute_reply": "2024-07-08T09:46:39.514488Z"
    }
   },
   "outputs": [],
   "source": [
    "df_incidences.to_csv(PROJECT_ROOT / \"data/intermediate/incidents.csv\", index=False)"
   ]
  }
 ],
 "metadata": {
  "kernelspec": {
   "display_name": "Python 3",
   "language": "python",
   "name": "python3"
  },
  "language_info": {
   "codemirror_mode": {
    "name": "ipython",
    "version": 3
   },
   "file_extension": ".py",
   "mimetype": "text/x-python",
   "name": "python",
   "nbconvert_exporter": "python",
   "pygments_lexer": "ipython3",
   "version": "3.11.2"
  }
 },
 "nbformat": 4,
 "nbformat_minor": 2
}
