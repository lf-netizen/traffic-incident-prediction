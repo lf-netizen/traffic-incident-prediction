{
 "cells": [
  {
   "cell_type": "code",
   "execution_count": 1,
   "metadata": {
    "execution": {
     "iopub.execute_input": "2024-07-08T09:46:54.756628Z",
     "iopub.status.busy": "2024-07-08T09:46:54.755757Z",
     "iopub.status.idle": "2024-07-08T09:46:55.188641Z",
     "shell.execute_reply": "2024-07-08T09:46:55.187746Z"
    }
   },
   "outputs": [],
   "source": [
    "import os\n",
    "import pandas as pd\n",
    "from pathlib import Path"
   ]
  },
  {
   "cell_type": "code",
   "execution_count": 2,
   "metadata": {
    "execution": {
     "iopub.execute_input": "2024-07-08T09:46:55.196103Z",
     "iopub.status.busy": "2024-07-08T09:46:55.193973Z",
     "iopub.status.idle": "2024-07-08T09:46:55.204293Z",
     "shell.execute_reply": "2024-07-08T09:46:55.203483Z"
    }
   },
   "outputs": [],
   "source": [
    "PROJECT_ROOT = Path(os.getenv(\"PROJECT_ROOT\"))"
   ]
  },
  {
   "cell_type": "code",
   "execution_count": 3,
   "metadata": {
    "execution": {
     "iopub.execute_input": "2024-07-08T09:46:55.207657Z",
     "iopub.status.busy": "2024-07-08T09:46:55.207221Z",
     "iopub.status.idle": "2024-07-08T09:46:55.236978Z",
     "shell.execute_reply": "2024-07-08T09:46:55.235906Z"
    }
   },
   "outputs": [],
   "source": [
    "df_weather = pd.read_csv(PROJECT_ROOT / \"data/intermediate/weather_measurements.csv\")\n",
    "df_incidents = pd.read_csv(PROJECT_ROOT / \"data/intermediate/incidents.csv\")\n",
    "df_voivodeships = pd.read_csv(PROJECT_ROOT / 'data/intermediate/voivodeships.csv')"
   ]
  },
  {
   "cell_type": "code",
   "execution_count": 4,
   "metadata": {
    "execution": {
     "iopub.execute_input": "2024-07-08T09:46:55.240830Z",
     "iopub.status.busy": "2024-07-08T09:46:55.240002Z",
     "iopub.status.idle": "2024-07-08T09:46:55.292685Z",
     "shell.execute_reply": "2024-07-08T09:46:55.288654Z"
    }
   },
   "outputs": [
    {
     "data": {
      "text/html": [
       "<div>\n",
       "<style scoped>\n",
       "    .dataframe tbody tr th:only-of-type {\n",
       "        vertical-align: middle;\n",
       "    }\n",
       "\n",
       "    .dataframe tbody tr th {\n",
       "        vertical-align: top;\n",
       "    }\n",
       "\n",
       "    .dataframe thead th {\n",
       "        text-align: right;\n",
       "    }\n",
       "</style>\n",
       "<table border=\"1\" class=\"dataframe\">\n",
       "  <thead>\n",
       "    <tr style=\"text-align: right;\">\n",
       "      <th></th>\n",
       "      <th>year</th>\n",
       "      <th>month</th>\n",
       "      <th>voivodeship</th>\n",
       "      <th>temperature</th>\n",
       "      <th>humidity</th>\n",
       "      <th>incidents</th>\n",
       "    </tr>\n",
       "  </thead>\n",
       "  <tbody>\n",
       "    <tr>\n",
       "      <th>0</th>\n",
       "      <td>2018</td>\n",
       "      <td>1</td>\n",
       "      <td>małopolskie</td>\n",
       "      <td>-1.149677</td>\n",
       "      <td>89.855484</td>\n",
       "      <td>2879</td>\n",
       "    </tr>\n",
       "    <tr>\n",
       "      <th>1</th>\n",
       "      <td>2018</td>\n",
       "      <td>2</td>\n",
       "      <td>małopolskie</td>\n",
       "      <td>-2.167143</td>\n",
       "      <td>92.866429</td>\n",
       "      <td>2658</td>\n",
       "    </tr>\n",
       "    <tr>\n",
       "      <th>2</th>\n",
       "      <td>2018</td>\n",
       "      <td>3</td>\n",
       "      <td>małopolskie</td>\n",
       "      <td>-0.725484</td>\n",
       "      <td>87.644194</td>\n",
       "      <td>2741</td>\n",
       "    </tr>\n",
       "    <tr>\n",
       "      <th>3</th>\n",
       "      <td>2018</td>\n",
       "      <td>4</td>\n",
       "      <td>małopolskie</td>\n",
       "      <td>10.383333</td>\n",
       "      <td>72.174667</td>\n",
       "      <td>2848</td>\n",
       "    </tr>\n",
       "    <tr>\n",
       "      <th>4</th>\n",
       "      <td>2018</td>\n",
       "      <td>5</td>\n",
       "      <td>małopolskie</td>\n",
       "      <td>17.081613</td>\n",
       "      <td>77.249677</td>\n",
       "      <td>2909</td>\n",
       "    </tr>\n",
       "    <tr>\n",
       "      <th>...</th>\n",
       "      <td>...</td>\n",
       "      <td>...</td>\n",
       "      <td>...</td>\n",
       "      <td>...</td>\n",
       "      <td>...</td>\n",
       "      <td>...</td>\n",
       "    </tr>\n",
       "    <tr>\n",
       "      <th>924</th>\n",
       "      <td>2022</td>\n",
       "      <td>8</td>\n",
       "      <td>podlaskie</td>\n",
       "      <td>21.509677</td>\n",
       "      <td>78.806452</td>\n",
       "      <td>1013</td>\n",
       "    </tr>\n",
       "    <tr>\n",
       "      <th>925</th>\n",
       "      <td>2022</td>\n",
       "      <td>9</td>\n",
       "      <td>podlaskie</td>\n",
       "      <td>10.533333</td>\n",
       "      <td>91.133333</td>\n",
       "      <td>947</td>\n",
       "    </tr>\n",
       "    <tr>\n",
       "      <th>926</th>\n",
       "      <td>2022</td>\n",
       "      <td>10</td>\n",
       "      <td>podlaskie</td>\n",
       "      <td>7.632258</td>\n",
       "      <td>94.612903</td>\n",
       "      <td>910</td>\n",
       "    </tr>\n",
       "    <tr>\n",
       "      <th>927</th>\n",
       "      <td>2022</td>\n",
       "      <td>11</td>\n",
       "      <td>podlaskie</td>\n",
       "      <td>1.273333</td>\n",
       "      <td>93.933333</td>\n",
       "      <td>941</td>\n",
       "    </tr>\n",
       "    <tr>\n",
       "      <th>928</th>\n",
       "      <td>2022</td>\n",
       "      <td>12</td>\n",
       "      <td>podlaskie</td>\n",
       "      <td>-2.141935</td>\n",
       "      <td>91.838710</td>\n",
       "      <td>1047</td>\n",
       "    </tr>\n",
       "  </tbody>\n",
       "</table>\n",
       "<p>929 rows × 6 columns</p>\n",
       "</div>"
      ],
      "text/plain": [
       "     year  month  voivodeship  temperature   humidity  incidents\n",
       "0    2018      1  małopolskie    -1.149677  89.855484       2879\n",
       "1    2018      2  małopolskie    -2.167143  92.866429       2658\n",
       "2    2018      3  małopolskie    -0.725484  87.644194       2741\n",
       "3    2018      4  małopolskie    10.383333  72.174667       2848\n",
       "4    2018      5  małopolskie    17.081613  77.249677       2909\n",
       "..    ...    ...          ...          ...        ...        ...\n",
       "924  2022      8    podlaskie    21.509677  78.806452       1013\n",
       "925  2022      9    podlaskie    10.533333  91.133333        947\n",
       "926  2022     10    podlaskie     7.632258  94.612903        910\n",
       "927  2022     11    podlaskie     1.273333  93.933333        941\n",
       "928  2022     12    podlaskie    -2.141935  91.838710       1047\n",
       "\n",
       "[929 rows x 6 columns]"
      ]
     },
     "execution_count": 4,
     "metadata": {},
     "output_type": "execute_result"
    }
   ],
   "source": [
    "df_merged = df_weather \\\n",
    "    .merge(df_incidents, on=[\"year\", \"month\", \"voivodeship\"], how=\"left\") \\\n",
    "    # .merge(df_voivodeships, on=[\"year\", \"voivodeship\"], how=\"left\") \\\n",
    "\n",
    "df_merged"
   ]
  },
  {
   "cell_type": "code",
   "execution_count": 5,
   "metadata": {
    "execution": {
     "iopub.execute_input": "2024-07-08T09:46:55.300380Z",
     "iopub.status.busy": "2024-07-08T09:46:55.299890Z",
     "iopub.status.idle": "2024-07-08T09:46:55.316078Z",
     "shell.execute_reply": "2024-07-08T09:46:55.311735Z"
    }
   },
   "outputs": [],
   "source": [
    "df_merged.to_csv(PROJECT_ROOT / \"data/intermediate/data_all.csv\", index=False)"
   ]
  },
  {
   "cell_type": "code",
   "execution_count": 6,
   "metadata": {
    "execution": {
     "iopub.execute_input": "2024-07-08T09:46:55.320393Z",
     "iopub.status.busy": "2024-07-08T09:46:55.320090Z",
     "iopub.status.idle": "2024-07-08T09:46:55.366221Z",
     "shell.execute_reply": "2024-07-08T09:46:55.364433Z"
    }
   },
   "outputs": [
    {
     "data": {
      "text/html": [
       "<div>\n",
       "<style scoped>\n",
       "    .dataframe tbody tr th:only-of-type {\n",
       "        vertical-align: middle;\n",
       "    }\n",
       "\n",
       "    .dataframe tbody tr th {\n",
       "        vertical-align: top;\n",
       "    }\n",
       "\n",
       "    .dataframe thead th {\n",
       "        text-align: right;\n",
       "    }\n",
       "</style>\n",
       "<table border=\"1\" class=\"dataframe\">\n",
       "  <thead>\n",
       "    <tr style=\"text-align: right;\">\n",
       "      <th></th>\n",
       "      <th>year</th>\n",
       "      <th>month</th>\n",
       "      <th>temperature</th>\n",
       "      <th>humidity</th>\n",
       "      <th>incidents</th>\n",
       "    </tr>\n",
       "  </thead>\n",
       "  <tbody>\n",
       "    <tr>\n",
       "      <th>count</th>\n",
       "      <td>929.000000</td>\n",
       "      <td>929.000000</td>\n",
       "      <td>929.000000</td>\n",
       "      <td>929.000000</td>\n",
       "      <td>929.000000</td>\n",
       "    </tr>\n",
       "    <tr>\n",
       "      <th>mean</th>\n",
       "      <td>2020.033369</td>\n",
       "      <td>6.533907</td>\n",
       "      <td>8.200281</td>\n",
       "      <td>84.019064</td>\n",
       "      <td>2270.978471</td>\n",
       "    </tr>\n",
       "    <tr>\n",
       "      <th>std</th>\n",
       "      <td>1.426340</td>\n",
       "      <td>3.504797</td>\n",
       "      <td>8.172944</td>\n",
       "      <td>7.836152</td>\n",
       "      <td>1335.206350</td>\n",
       "    </tr>\n",
       "    <tr>\n",
       "      <th>min</th>\n",
       "      <td>2018.000000</td>\n",
       "      <td>1.000000</td>\n",
       "      <td>-8.203571</td>\n",
       "      <td>58.233333</td>\n",
       "      <td>484.000000</td>\n",
       "    </tr>\n",
       "    <tr>\n",
       "      <th>25%</th>\n",
       "      <td>2019.000000</td>\n",
       "      <td>3.000000</td>\n",
       "      <td>1.054839</td>\n",
       "      <td>78.796774</td>\n",
       "      <td>1234.000000</td>\n",
       "    </tr>\n",
       "    <tr>\n",
       "      <th>50%</th>\n",
       "      <td>2020.000000</td>\n",
       "      <td>7.000000</td>\n",
       "      <td>6.883333</td>\n",
       "      <td>85.548387</td>\n",
       "      <td>1870.000000</td>\n",
       "    </tr>\n",
       "    <tr>\n",
       "      <th>75%</th>\n",
       "      <td>2021.000000</td>\n",
       "      <td>10.000000</td>\n",
       "      <td>16.201613</td>\n",
       "      <td>90.310345</td>\n",
       "      <td>2855.000000</td>\n",
       "    </tr>\n",
       "    <tr>\n",
       "      <th>max</th>\n",
       "      <td>2022.000000</td>\n",
       "      <td>12.000000</td>\n",
       "      <td>24.900000</td>\n",
       "      <td>98.193548</td>\n",
       "      <td>7530.000000</td>\n",
       "    </tr>\n",
       "  </tbody>\n",
       "</table>\n",
       "</div>"
      ],
      "text/plain": [
       "              year       month  temperature    humidity    incidents\n",
       "count   929.000000  929.000000   929.000000  929.000000   929.000000\n",
       "mean   2020.033369    6.533907     8.200281   84.019064  2270.978471\n",
       "std       1.426340    3.504797     8.172944    7.836152  1335.206350\n",
       "min    2018.000000    1.000000    -8.203571   58.233333   484.000000\n",
       "25%    2019.000000    3.000000     1.054839   78.796774  1234.000000\n",
       "50%    2020.000000    7.000000     6.883333   85.548387  1870.000000\n",
       "75%    2021.000000   10.000000    16.201613   90.310345  2855.000000\n",
       "max    2022.000000   12.000000    24.900000   98.193548  7530.000000"
      ]
     },
     "execution_count": 6,
     "metadata": {},
     "output_type": "execute_result"
    }
   ],
   "source": [
    "df_merged.describe()"
   ]
  }
 ],
 "metadata": {
  "kernelspec": {
   "display_name": "reddit-scrape",
   "language": "python",
   "name": "python3"
  },
  "language_info": {
   "codemirror_mode": {
    "name": "ipython",
    "version": 3
   },
   "file_extension": ".py",
   "mimetype": "text/x-python",
   "name": "python",
   "nbconvert_exporter": "python",
   "pygments_lexer": "ipython3",
   "version": "3.11.2"
  }
 },
 "nbformat": 4,
 "nbformat_minor": 2
}
