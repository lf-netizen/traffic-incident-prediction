{
 "cells": [
  {
   "cell_type": "code",
   "execution_count": 1,
   "metadata": {
    "execution": {
     "iopub.execute_input": "2024-07-08T08:18:55.116785Z",
     "iopub.status.busy": "2024-07-08T08:18:55.116073Z",
     "iopub.status.idle": "2024-07-08T08:18:55.617396Z",
     "shell.execute_reply": "2024-07-08T08:18:55.616433Z"
    }
   },
   "outputs": [],
   "source": [
    "import os\n",
    "import pandas as pd\n",
    "from pathlib import Path"
   ]
  },
  {
   "cell_type": "code",
   "execution_count": 2,
   "metadata": {
    "execution": {
     "iopub.execute_input": "2024-07-08T08:18:55.620688Z",
     "iopub.status.busy": "2024-07-08T08:18:55.620139Z",
     "iopub.status.idle": "2024-07-08T08:18:55.624233Z",
     "shell.execute_reply": "2024-07-08T08:18:55.623423Z"
    }
   },
   "outputs": [],
   "source": [
    "PROJECT_ROOT = Path(os.getenv(\"PROJECT_ROOT\"))\n",
    "DATA_DIR = PROJECT_ROOT / 'data/input/voivodeships/gus'"
   ]
  },
  {
   "cell_type": "code",
   "execution_count": 3,
   "metadata": {
    "execution": {
     "iopub.execute_input": "2024-07-08T08:18:55.628735Z",
     "iopub.status.busy": "2024-07-08T08:18:55.626809Z",
     "iopub.status.idle": "2024-07-08T08:18:55.682980Z",
     "shell.execute_reply": "2024-07-08T08:18:55.680933Z"
    }
   },
   "outputs": [],
   "source": [
    "df_population = pd.read_csv(DATA_DIR / 'LUDN_2425_CREL_20240706142728.csv', sep=';')\n",
    "df_vehicles = pd.read_csv(DATA_DIR / 'TRAN_1733_CREL_20240706142837.csv', sep=';')\n",
    "df_roads = pd.read_csv(DATA_DIR / 'TRAN_2655_CREL_20240706142154.csv', sep=';')"
   ]
  },
  {
   "cell_type": "code",
   "execution_count": 4,
   "metadata": {
    "execution": {
     "iopub.execute_input": "2024-07-08T08:18:55.686070Z",
     "iopub.status.busy": "2024-07-08T08:18:55.685591Z",
     "iopub.status.idle": "2024-07-08T08:18:55.693003Z",
     "shell.execute_reply": "2024-07-08T08:18:55.692244Z"
    }
   },
   "outputs": [],
   "source": [
    "density_data = df_population[df_population['Wskaźniki'] == 'ludność na 1 km2']\n",
    "density_data = density_data[['Rok', 'Nazwa', 'Wartosc']]\n",
    "density_data = density_data.rename(columns={'Wartosc': 'population_density'})\n",
    "\n",
    "population_data = df_population[df_population['Wskaźniki'] == 'ludność w tysiącach']\n",
    "population_data = population_data[['Rok', 'Nazwa', 'Wartosc']]\n",
    "population_data = population_data.rename(columns={'Wartosc': 'population'})"
   ]
  },
  {
   "cell_type": "code",
   "execution_count": 5,
   "metadata": {
    "execution": {
     "iopub.execute_input": "2024-07-08T08:18:55.702786Z",
     "iopub.status.busy": "2024-07-08T08:18:55.702297Z",
     "iopub.status.idle": "2024-07-08T08:18:55.708551Z",
     "shell.execute_reply": "2024-07-08T08:18:55.707714Z"
    }
   },
   "outputs": [],
   "source": [
    "vehicles_data = df_vehicles[df_vehicles['Rodzaje pojazdów'] == 'pojazdy samochodowe i ciągniki']\n",
    "\n",
    "vehicles_data = vehicles_data[['Rok', 'Nazwa', 'Wartosc']]\n",
    "vehicles_data = vehicles_data.rename(columns={'Wartosc': 'vehicles_count'})"
   ]
  },
  {
   "cell_type": "code",
   "execution_count": 6,
   "metadata": {
    "execution": {
     "iopub.execute_input": "2024-07-08T08:18:55.714804Z",
     "iopub.status.busy": "2024-07-08T08:18:55.713798Z",
     "iopub.status.idle": "2024-07-08T08:18:55.732284Z",
     "shell.execute_reply": "2024-07-08T08:18:55.728061Z"
    }
   },
   "outputs": [
    {
     "data": {
      "text/html": [
       "<div>\n",
       "<style scoped>\n",
       "    .dataframe tbody tr th:only-of-type {\n",
       "        vertical-align: middle;\n",
       "    }\n",
       "\n",
       "    .dataframe tbody tr th {\n",
       "        vertical-align: top;\n",
       "    }\n",
       "\n",
       "    .dataframe thead th {\n",
       "        text-align: right;\n",
       "    }\n",
       "</style>\n",
       "<table border=\"1\" class=\"dataframe\">\n",
       "  <thead>\n",
       "    <tr style=\"text-align: right;\">\n",
       "      <th></th>\n",
       "      <th>Rok</th>\n",
       "      <th>Nazwa</th>\n",
       "      <th>roads_length</th>\n",
       "    </tr>\n",
       "  </thead>\n",
       "  <tbody>\n",
       "    <tr>\n",
       "      <th>0</th>\n",
       "      <td>2018</td>\n",
       "      <td>DOLNOŚLĄSKIE</td>\n",
       "      <td>24333,4</td>\n",
       "    </tr>\n",
       "    <tr>\n",
       "      <th>1</th>\n",
       "      <td>2019</td>\n",
       "      <td>DOLNOŚLĄSKIE</td>\n",
       "      <td>24548,6</td>\n",
       "    </tr>\n",
       "    <tr>\n",
       "      <th>2</th>\n",
       "      <td>2020</td>\n",
       "      <td>DOLNOŚLĄSKIE</td>\n",
       "      <td>25322,3</td>\n",
       "    </tr>\n",
       "    <tr>\n",
       "      <th>3</th>\n",
       "      <td>2021</td>\n",
       "      <td>DOLNOŚLĄSKIE</td>\n",
       "      <td>25427,2</td>\n",
       "    </tr>\n",
       "    <tr>\n",
       "      <th>4</th>\n",
       "      <td>2022</td>\n",
       "      <td>DOLNOŚLĄSKIE</td>\n",
       "      <td>25562,7</td>\n",
       "    </tr>\n",
       "    <tr>\n",
       "      <th>...</th>\n",
       "      <td>...</td>\n",
       "      <td>...</td>\n",
       "      <td>...</td>\n",
       "    </tr>\n",
       "    <tr>\n",
       "      <th>225</th>\n",
       "      <td>2018</td>\n",
       "      <td>ZACHODNIOPOMORSKIE</td>\n",
       "      <td>19849,3</td>\n",
       "    </tr>\n",
       "    <tr>\n",
       "      <th>226</th>\n",
       "      <td>2019</td>\n",
       "      <td>ZACHODNIOPOMORSKIE</td>\n",
       "      <td>19406,8</td>\n",
       "    </tr>\n",
       "    <tr>\n",
       "      <th>227</th>\n",
       "      <td>2020</td>\n",
       "      <td>ZACHODNIOPOMORSKIE</td>\n",
       "      <td>20060,4</td>\n",
       "    </tr>\n",
       "    <tr>\n",
       "      <th>228</th>\n",
       "      <td>2021</td>\n",
       "      <td>ZACHODNIOPOMORSKIE</td>\n",
       "      <td>19604,2</td>\n",
       "    </tr>\n",
       "    <tr>\n",
       "      <th>229</th>\n",
       "      <td>2022</td>\n",
       "      <td>ZACHODNIOPOMORSKIE</td>\n",
       "      <td>19416,1</td>\n",
       "    </tr>\n",
       "  </tbody>\n",
       "</table>\n",
       "<p>80 rows × 3 columns</p>\n",
       "</div>"
      ],
      "text/plain": [
       "      Rok               Nazwa roads_length\n",
       "0    2018        DOLNOŚLĄSKIE      24333,4\n",
       "1    2019        DOLNOŚLĄSKIE      24548,6\n",
       "2    2020        DOLNOŚLĄSKIE      25322,3\n",
       "3    2021        DOLNOŚLĄSKIE      25427,2\n",
       "4    2022        DOLNOŚLĄSKIE      25562,7\n",
       "..    ...                 ...          ...\n",
       "225  2018  ZACHODNIOPOMORSKIE      19849,3\n",
       "226  2019  ZACHODNIOPOMORSKIE      19406,8\n",
       "227  2020  ZACHODNIOPOMORSKIE      20060,4\n",
       "228  2021  ZACHODNIOPOMORSKIE      19604,2\n",
       "229  2022  ZACHODNIOPOMORSKIE      19416,1\n",
       "\n",
       "[80 rows x 3 columns]"
      ]
     },
     "execution_count": 6,
     "metadata": {},
     "output_type": "execute_result"
    }
   ],
   "source": [
    "roads_data= df_roads[df_roads['Rodzaje dróg'] == 'ogółem']\n",
    "roads_data = roads_data[['Rok', 'Nazwa', 'Wartosc']]\n",
    "roads_data = roads_data.rename(columns={'Wartosc': 'roads_length'})\n",
    "\n",
    "roads_data"
   ]
  },
  {
   "cell_type": "code",
   "execution_count": 7,
   "metadata": {
    "execution": {
     "iopub.execute_input": "2024-07-08T08:18:55.738079Z",
     "iopub.status.busy": "2024-07-08T08:18:55.737790Z",
     "iopub.status.idle": "2024-07-08T08:18:55.773918Z",
     "shell.execute_reply": "2024-07-08T08:18:55.773145Z"
    }
   },
   "outputs": [
    {
     "data": {
      "text/html": [
       "<div>\n",
       "<style scoped>\n",
       "    .dataframe tbody tr th:only-of-type {\n",
       "        vertical-align: middle;\n",
       "    }\n",
       "\n",
       "    .dataframe tbody tr th {\n",
       "        vertical-align: top;\n",
       "    }\n",
       "\n",
       "    .dataframe thead th {\n",
       "        text-align: right;\n",
       "    }\n",
       "</style>\n",
       "<table border=\"1\" class=\"dataframe\">\n",
       "  <thead>\n",
       "    <tr style=\"text-align: right;\">\n",
       "      <th></th>\n",
       "      <th>year</th>\n",
       "      <th>voivodeship</th>\n",
       "      <th>population_density</th>\n",
       "      <th>population</th>\n",
       "      <th>vehicles_count</th>\n",
       "      <th>roads_length</th>\n",
       "    </tr>\n",
       "  </thead>\n",
       "  <tbody>\n",
       "    <tr>\n",
       "      <th>0</th>\n",
       "      <td>2018</td>\n",
       "      <td>dolnośląskie</td>\n",
       "      <td>145.4</td>\n",
       "      <td>2901.23</td>\n",
       "      <td>2274325</td>\n",
       "      <td>24333.4</td>\n",
       "    </tr>\n",
       "    <tr>\n",
       "      <th>1</th>\n",
       "      <td>2019</td>\n",
       "      <td>dolnośląskie</td>\n",
       "      <td>145.4</td>\n",
       "      <td>2900.16</td>\n",
       "      <td>2366425</td>\n",
       "      <td>24548.6</td>\n",
       "    </tr>\n",
       "    <tr>\n",
       "      <th>2</th>\n",
       "      <td>2020</td>\n",
       "      <td>dolnośląskie</td>\n",
       "      <td>145.8</td>\n",
       "      <td>2908.38</td>\n",
       "      <td>2448105</td>\n",
       "      <td>25322.3</td>\n",
       "    </tr>\n",
       "    <tr>\n",
       "      <th>3</th>\n",
       "      <td>2021</td>\n",
       "      <td>dolnośląskie</td>\n",
       "      <td>145.3</td>\n",
       "      <td>2897.74</td>\n",
       "      <td>2529725</td>\n",
       "      <td>25427.2</td>\n",
       "    </tr>\n",
       "    <tr>\n",
       "      <th>4</th>\n",
       "      <td>2022</td>\n",
       "      <td>dolnośląskie</td>\n",
       "      <td>144.8</td>\n",
       "      <td>2888.03</td>\n",
       "      <td>2592868</td>\n",
       "      <td>25562.7</td>\n",
       "    </tr>\n",
       "    <tr>\n",
       "      <th>...</th>\n",
       "      <td>...</td>\n",
       "      <td>...</td>\n",
       "      <td>...</td>\n",
       "      <td>...</td>\n",
       "      <td>...</td>\n",
       "      <td>...</td>\n",
       "    </tr>\n",
       "    <tr>\n",
       "      <th>75</th>\n",
       "      <td>2018</td>\n",
       "      <td>świętokrzyskie</td>\n",
       "      <td>106.0</td>\n",
       "      <td>1241.55</td>\n",
       "      <td>1010002</td>\n",
       "      <td>17491.7</td>\n",
       "    </tr>\n",
       "    <tr>\n",
       "      <th>76</th>\n",
       "      <td>2019</td>\n",
       "      <td>świętokrzyskie</td>\n",
       "      <td>105.4</td>\n",
       "      <td>1233.96</td>\n",
       "      <td>1048628</td>\n",
       "      <td>17642.8</td>\n",
       "    </tr>\n",
       "    <tr>\n",
       "      <th>77</th>\n",
       "      <td>2020</td>\n",
       "      <td>świętokrzyskie</td>\n",
       "      <td>102.4</td>\n",
       "      <td>1199.58</td>\n",
       "      <td>1078563</td>\n",
       "      <td>17499.6</td>\n",
       "    </tr>\n",
       "    <tr>\n",
       "      <th>78</th>\n",
       "      <td>2021</td>\n",
       "      <td>świętokrzyskie</td>\n",
       "      <td>101.4</td>\n",
       "      <td>1187.69</td>\n",
       "      <td>1112055</td>\n",
       "      <td>17467.2</td>\n",
       "    </tr>\n",
       "    <tr>\n",
       "      <th>79</th>\n",
       "      <td>2022</td>\n",
       "      <td>świętokrzyskie</td>\n",
       "      <td>100.6</td>\n",
       "      <td>1178.16</td>\n",
       "      <td>1135056</td>\n",
       "      <td>17261.2</td>\n",
       "    </tr>\n",
       "  </tbody>\n",
       "</table>\n",
       "<p>80 rows × 6 columns</p>\n",
       "</div>"
      ],
      "text/plain": [
       "    year     voivodeship  population_density  population  vehicles_count  \\\n",
       "0   2018    dolnośląskie               145.4     2901.23         2274325   \n",
       "1   2019    dolnośląskie               145.4     2900.16         2366425   \n",
       "2   2020    dolnośląskie               145.8     2908.38         2448105   \n",
       "3   2021    dolnośląskie               145.3     2897.74         2529725   \n",
       "4   2022    dolnośląskie               144.8     2888.03         2592868   \n",
       "..   ...             ...                 ...         ...             ...   \n",
       "75  2018  świętokrzyskie               106.0     1241.55         1010002   \n",
       "76  2019  świętokrzyskie               105.4     1233.96         1048628   \n",
       "77  2020  świętokrzyskie               102.4     1199.58         1078563   \n",
       "78  2021  świętokrzyskie               101.4     1187.69         1112055   \n",
       "79  2022  świętokrzyskie               100.6     1178.16         1135056   \n",
       "\n",
       "    roads_length  \n",
       "0        24333.4  \n",
       "1        24548.6  \n",
       "2        25322.3  \n",
       "3        25427.2  \n",
       "4        25562.7  \n",
       "..           ...  \n",
       "75       17491.7  \n",
       "76       17642.8  \n",
       "77       17499.6  \n",
       "78       17467.2  \n",
       "79       17261.2  \n",
       "\n",
       "[80 rows x 6 columns]"
      ]
     },
     "execution_count": 7,
     "metadata": {},
     "output_type": "execute_result"
    }
   ],
   "source": [
    "df_result = density_data \\\n",
    "    .merge(population_data, on=['Nazwa', 'Rok'], how='inner') \\\n",
    "    .merge(vehicles_data, on=['Nazwa', 'Rok'], how='inner') \\\n",
    "    .merge(roads_data, on=['Nazwa', 'Rok'], how='inner') \\\n",
    "    .rename(columns={'Nazwa': 'voivodeship', 'Rok': 'year'}) \\\n",
    "    .assign(voivodeship=lambda x: x['voivodeship'].str.lower()) \\\n",
    "    .replace({',': '.'}, regex=True) \\\n",
    "    .astype({'population_density': float, 'population': float, 'vehicles_count':int, 'roads_length': float}) \\\n",
    "    .sort_values(['voivodeship', 'year']) \\\n",
    "    .reset_index(drop=True)\n",
    "\n",
    "df_result"
   ]
  },
  {
   "cell_type": "code",
   "execution_count": 8,
   "metadata": {
    "execution": {
     "iopub.execute_input": "2024-07-08T08:18:55.777212Z",
     "iopub.status.busy": "2024-07-08T08:18:55.776531Z",
     "iopub.status.idle": "2024-07-08T08:18:55.788737Z",
     "shell.execute_reply": "2024-07-08T08:18:55.787944Z"
    }
   },
   "outputs": [],
   "source": [
    "df_result.to_csv(PROJECT_ROOT / \"data/intermediate/voivodeships.csv\", index=False)"
   ]
  }
 ],
 "metadata": {
  "kernelspec": {
   "display_name": "reddit-scrape",
   "language": "python",
   "name": "python3"
  },
  "language_info": {
   "codemirror_mode": {
    "name": "ipython",
    "version": 3
   },
   "file_extension": ".py",
   "mimetype": "text/x-python",
   "name": "python",
   "nbconvert_exporter": "python",
   "pygments_lexer": "ipython3",
   "version": "3.11.2"
  }
 },
 "nbformat": 4,
 "nbformat_minor": 2
}
