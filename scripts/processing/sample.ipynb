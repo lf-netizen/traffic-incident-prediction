{
 "cells": [
  {
   "cell_type": "code",
   "execution_count": 1,
   "metadata": {
    "execution": {
     "iopub.execute_input": "2024-07-08T09:46:56.774122Z",
     "iopub.status.busy": "2024-07-08T09:46:56.773490Z",
     "iopub.status.idle": "2024-07-08T09:46:57.217671Z",
     "shell.execute_reply": "2024-07-08T09:46:57.214072Z"
    }
   },
   "outputs": [],
   "source": [
    "import os\n",
    "import pandas as pd\n",
    "from pathlib import Path"
   ]
  },
  {
   "cell_type": "code",
   "execution_count": 2,
   "metadata": {
    "execution": {
     "iopub.execute_input": "2024-07-08T09:46:57.221810Z",
     "iopub.status.busy": "2024-07-08T09:46:57.221190Z",
     "iopub.status.idle": "2024-07-08T09:46:57.227230Z",
     "shell.execute_reply": "2024-07-08T09:46:57.224778Z"
    }
   },
   "outputs": [],
   "source": [
    "data_samples = [\n",
    "    (2021, 'mazowieckie'),\n",
    "    (2022, 'mazowieckie'),\n",
    "    (2020, 'opolskie'),\n",
    "]"
   ]
  },
  {
   "cell_type": "code",
   "execution_count": 3,
   "metadata": {
    "execution": {
     "iopub.execute_input": "2024-07-08T09:46:57.234414Z",
     "iopub.status.busy": "2024-07-08T09:46:57.233552Z",
     "iopub.status.idle": "2024-07-08T09:46:57.239174Z",
     "shell.execute_reply": "2024-07-08T09:46:57.238267Z"
    }
   },
   "outputs": [],
   "source": [
    "PROJECT_ROOT = Path(os.getenv(\"PROJECT_ROOT\"))"
   ]
  },
  {
   "cell_type": "code",
   "execution_count": 4,
   "metadata": {
    "execution": {
     "iopub.execute_input": "2024-07-08T09:46:57.242911Z",
     "iopub.status.busy": "2024-07-08T09:46:57.242388Z",
     "iopub.status.idle": "2024-07-08T09:46:57.278591Z",
     "shell.execute_reply": "2024-07-08T09:46:57.277695Z"
    }
   },
   "outputs": [
    {
     "data": {
      "text/html": [
       "<div>\n",
       "<style scoped>\n",
       "    .dataframe tbody tr th:only-of-type {\n",
       "        vertical-align: middle;\n",
       "    }\n",
       "\n",
       "    .dataframe tbody tr th {\n",
       "        vertical-align: top;\n",
       "    }\n",
       "\n",
       "    .dataframe thead th {\n",
       "        text-align: right;\n",
       "    }\n",
       "</style>\n",
       "<table border=\"1\" class=\"dataframe\">\n",
       "  <thead>\n",
       "    <tr style=\"text-align: right;\">\n",
       "      <th></th>\n",
       "      <th>year</th>\n",
       "      <th>month</th>\n",
       "      <th>voivodeship</th>\n",
       "      <th>temperature</th>\n",
       "      <th>humidity</th>\n",
       "      <th>incidents</th>\n",
       "    </tr>\n",
       "  </thead>\n",
       "  <tbody>\n",
       "    <tr>\n",
       "      <th>0</th>\n",
       "      <td>2018</td>\n",
       "      <td>1</td>\n",
       "      <td>małopolskie</td>\n",
       "      <td>-1.149677</td>\n",
       "      <td>89.855484</td>\n",
       "      <td>2879</td>\n",
       "    </tr>\n",
       "    <tr>\n",
       "      <th>1</th>\n",
       "      <td>2018</td>\n",
       "      <td>2</td>\n",
       "      <td>małopolskie</td>\n",
       "      <td>-2.167143</td>\n",
       "      <td>92.866429</td>\n",
       "      <td>2658</td>\n",
       "    </tr>\n",
       "    <tr>\n",
       "      <th>2</th>\n",
       "      <td>2018</td>\n",
       "      <td>3</td>\n",
       "      <td>małopolskie</td>\n",
       "      <td>-0.725484</td>\n",
       "      <td>87.644194</td>\n",
       "      <td>2741</td>\n",
       "    </tr>\n",
       "    <tr>\n",
       "      <th>3</th>\n",
       "      <td>2018</td>\n",
       "      <td>4</td>\n",
       "      <td>małopolskie</td>\n",
       "      <td>10.383333</td>\n",
       "      <td>72.174667</td>\n",
       "      <td>2848</td>\n",
       "    </tr>\n",
       "    <tr>\n",
       "      <th>4</th>\n",
       "      <td>2018</td>\n",
       "      <td>5</td>\n",
       "      <td>małopolskie</td>\n",
       "      <td>17.081613</td>\n",
       "      <td>77.249677</td>\n",
       "      <td>2909</td>\n",
       "    </tr>\n",
       "    <tr>\n",
       "      <th>...</th>\n",
       "      <td>...</td>\n",
       "      <td>...</td>\n",
       "      <td>...</td>\n",
       "      <td>...</td>\n",
       "      <td>...</td>\n",
       "      <td>...</td>\n",
       "    </tr>\n",
       "    <tr>\n",
       "      <th>924</th>\n",
       "      <td>2022</td>\n",
       "      <td>8</td>\n",
       "      <td>podlaskie</td>\n",
       "      <td>21.509677</td>\n",
       "      <td>78.806452</td>\n",
       "      <td>1013</td>\n",
       "    </tr>\n",
       "    <tr>\n",
       "      <th>925</th>\n",
       "      <td>2022</td>\n",
       "      <td>9</td>\n",
       "      <td>podlaskie</td>\n",
       "      <td>10.533333</td>\n",
       "      <td>91.133333</td>\n",
       "      <td>947</td>\n",
       "    </tr>\n",
       "    <tr>\n",
       "      <th>926</th>\n",
       "      <td>2022</td>\n",
       "      <td>10</td>\n",
       "      <td>podlaskie</td>\n",
       "      <td>7.632258</td>\n",
       "      <td>94.612903</td>\n",
       "      <td>910</td>\n",
       "    </tr>\n",
       "    <tr>\n",
       "      <th>927</th>\n",
       "      <td>2022</td>\n",
       "      <td>11</td>\n",
       "      <td>podlaskie</td>\n",
       "      <td>1.273333</td>\n",
       "      <td>93.933333</td>\n",
       "      <td>941</td>\n",
       "    </tr>\n",
       "    <tr>\n",
       "      <th>928</th>\n",
       "      <td>2022</td>\n",
       "      <td>12</td>\n",
       "      <td>podlaskie</td>\n",
       "      <td>-2.141935</td>\n",
       "      <td>91.838710</td>\n",
       "      <td>1047</td>\n",
       "    </tr>\n",
       "  </tbody>\n",
       "</table>\n",
       "<p>929 rows × 6 columns</p>\n",
       "</div>"
      ],
      "text/plain": [
       "     year  month  voivodeship  temperature   humidity  incidents\n",
       "0    2018      1  małopolskie    -1.149677  89.855484       2879\n",
       "1    2018      2  małopolskie    -2.167143  92.866429       2658\n",
       "2    2018      3  małopolskie    -0.725484  87.644194       2741\n",
       "3    2018      4  małopolskie    10.383333  72.174667       2848\n",
       "4    2018      5  małopolskie    17.081613  77.249677       2909\n",
       "..    ...    ...          ...          ...        ...        ...\n",
       "924  2022      8    podlaskie    21.509677  78.806452       1013\n",
       "925  2022      9    podlaskie    10.533333  91.133333        947\n",
       "926  2022     10    podlaskie     7.632258  94.612903        910\n",
       "927  2022     11    podlaskie     1.273333  93.933333        941\n",
       "928  2022     12    podlaskie    -2.141935  91.838710       1047\n",
       "\n",
       "[929 rows x 6 columns]"
      ]
     },
     "execution_count": 4,
     "metadata": {},
     "output_type": "execute_result"
    }
   ],
   "source": [
    "df = pd.read_csv(PROJECT_ROOT / \"data/intermediate/data_all.csv\")\n",
    "df"
   ]
  },
  {
   "cell_type": "code",
   "execution_count": 5,
   "metadata": {
    "execution": {
     "iopub.execute_input": "2024-07-08T09:46:57.285962Z",
     "iopub.status.busy": "2024-07-08T09:46:57.285710Z",
     "iopub.status.idle": "2024-07-08T09:46:57.393138Z",
     "shell.execute_reply": "2024-07-08T09:46:57.392193Z"
    }
   },
   "outputs": [],
   "source": [
    "for year, voivodeship in data_samples:\n",
    "    df[(df['voivodeship'] == voivodeship) & (df['year'] == int(year))] \\\n",
    "        .to_csv(PROJECT_ROOT / f\"data/analysis/{year}_{voivodeship}.csv\", index=False)"
   ]
  }
 ],
 "metadata": {
  "kernelspec": {
   "display_name": "reddit-scrape",
   "language": "python",
   "name": "python3"
  },
  "language_info": {
   "codemirror_mode": {
    "name": "ipython",
    "version": 3
   },
   "file_extension": ".py",
   "mimetype": "text/x-python",
   "name": "python",
   "nbconvert_exporter": "python",
   "pygments_lexer": "ipython3",
   "version": "3.11.2"
  }
 },
 "nbformat": 4,
 "nbformat_minor": 2
}
